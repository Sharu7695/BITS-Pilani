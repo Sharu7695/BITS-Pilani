{
 "cells": [
  {
   "cell_type": "markdown",
   "metadata": {},
   "source": [
    "### Machine Learning - Assignment 1 - Group 090"
   ]
  },
  {
   "cell_type": "markdown",
   "metadata": {},
   "source": [
    "**Question 2 :**"
   ]
  },
  {
   "cell_type": "code",
   "execution_count": 1,
   "metadata": {},
   "outputs": [],
   "source": [
    "#Loading the libraries\n",
    "import pandas as pd\n",
    "import numpy as np\n",
    "import matplotlib.pyplot as plt\n",
    "import seaborn as sns\n",
    "%matplotlib inline"
   ]
  },
  {
   "cell_type": "markdown",
   "metadata": {},
   "source": [
    "**1 . Importing the dataset**"
   ]
  },
  {
   "cell_type": "code",
   "execution_count": 2,
   "metadata": {},
   "outputs": [],
   "source": [
    "#importing the datasets\n",
    "df = pd.read_csv(r\"F:\\M.tech\\Study Materials\\2nd Sem Materials\\Machine Learning\\Slides\\Assignment - 1\\Set 3\\Q2\\car_data.csv\")"
   ]
  },
  {
   "cell_type": "code",
   "execution_count": 3,
   "metadata": {},
   "outputs": [
    {
     "data": {
      "text/html": [
       "<div>\n",
       "<style scoped>\n",
       "    .dataframe tbody tr th:only-of-type {\n",
       "        vertical-align: middle;\n",
       "    }\n",
       "\n",
       "    .dataframe tbody tr th {\n",
       "        vertical-align: top;\n",
       "    }\n",
       "\n",
       "    .dataframe thead th {\n",
       "        text-align: right;\n",
       "    }\n",
       "</style>\n",
       "<table border=\"1\" class=\"dataframe\">\n",
       "  <thead>\n",
       "    <tr style=\"text-align: right;\">\n",
       "      <th></th>\n",
       "      <th>Buying</th>\n",
       "      <th>Maintenence</th>\n",
       "      <th>Doors</th>\n",
       "      <th>Persons</th>\n",
       "      <th>Lugloot</th>\n",
       "      <th>Safety</th>\n",
       "      <th>Class Values</th>\n",
       "    </tr>\n",
       "  </thead>\n",
       "  <tbody>\n",
       "    <tr>\n",
       "      <th>0</th>\n",
       "      <td>vhigh</td>\n",
       "      <td>vhigh</td>\n",
       "      <td>2</td>\n",
       "      <td>2</td>\n",
       "      <td>small</td>\n",
       "      <td>low</td>\n",
       "      <td>unacc</td>\n",
       "    </tr>\n",
       "    <tr>\n",
       "      <th>1</th>\n",
       "      <td>vhigh</td>\n",
       "      <td>vhigh</td>\n",
       "      <td>2</td>\n",
       "      <td>2</td>\n",
       "      <td>small</td>\n",
       "      <td>med</td>\n",
       "      <td>unacc</td>\n",
       "    </tr>\n",
       "    <tr>\n",
       "      <th>2</th>\n",
       "      <td>vhigh</td>\n",
       "      <td>vhigh</td>\n",
       "      <td>2</td>\n",
       "      <td>2</td>\n",
       "      <td>small</td>\n",
       "      <td>high</td>\n",
       "      <td>unacc</td>\n",
       "    </tr>\n",
       "    <tr>\n",
       "      <th>3</th>\n",
       "      <td>vhigh</td>\n",
       "      <td>vhigh</td>\n",
       "      <td>2</td>\n",
       "      <td>2</td>\n",
       "      <td>med</td>\n",
       "      <td>low</td>\n",
       "      <td>unacc</td>\n",
       "    </tr>\n",
       "    <tr>\n",
       "      <th>4</th>\n",
       "      <td>vhigh</td>\n",
       "      <td>vhigh</td>\n",
       "      <td>2</td>\n",
       "      <td>2</td>\n",
       "      <td>med</td>\n",
       "      <td>med</td>\n",
       "      <td>unacc</td>\n",
       "    </tr>\n",
       "  </tbody>\n",
       "</table>\n",
       "</div>"
      ],
      "text/plain": [
       "  Buying Maintenence Doors Persons Lugloot Safety Class Values\n",
       "0  vhigh       vhigh     2       2   small    low        unacc\n",
       "1  vhigh       vhigh     2       2   small    med        unacc\n",
       "2  vhigh       vhigh     2       2   small   high        unacc\n",
       "3  vhigh       vhigh     2       2     med    low        unacc\n",
       "4  vhigh       vhigh     2       2     med    med        unacc"
      ]
     },
     "execution_count": 3,
     "metadata": {},
     "output_type": "execute_result"
    }
   ],
   "source": [
    "#viewing the head of the dataframe\n",
    "df.head()"
   ]
  },
  {
   "cell_type": "code",
   "execution_count": 4,
   "metadata": {},
   "outputs": [
    {
     "data": {
      "text/html": [
       "<div>\n",
       "<style scoped>\n",
       "    .dataframe tbody tr th:only-of-type {\n",
       "        vertical-align: middle;\n",
       "    }\n",
       "\n",
       "    .dataframe tbody tr th {\n",
       "        vertical-align: top;\n",
       "    }\n",
       "\n",
       "    .dataframe thead th {\n",
       "        text-align: right;\n",
       "    }\n",
       "</style>\n",
       "<table border=\"1\" class=\"dataframe\">\n",
       "  <thead>\n",
       "    <tr style=\"text-align: right;\">\n",
       "      <th></th>\n",
       "      <th>Buying</th>\n",
       "      <th>Maintenence</th>\n",
       "      <th>Doors</th>\n",
       "      <th>Persons</th>\n",
       "      <th>Lugloot</th>\n",
       "      <th>Safety</th>\n",
       "      <th>Class Values</th>\n",
       "    </tr>\n",
       "  </thead>\n",
       "  <tbody>\n",
       "    <tr>\n",
       "      <th>count</th>\n",
       "      <td>1728</td>\n",
       "      <td>1728</td>\n",
       "      <td>1728</td>\n",
       "      <td>1728</td>\n",
       "      <td>1728</td>\n",
       "      <td>1728</td>\n",
       "      <td>1728</td>\n",
       "    </tr>\n",
       "    <tr>\n",
       "      <th>unique</th>\n",
       "      <td>4</td>\n",
       "      <td>4</td>\n",
       "      <td>4</td>\n",
       "      <td>3</td>\n",
       "      <td>3</td>\n",
       "      <td>3</td>\n",
       "      <td>4</td>\n",
       "    </tr>\n",
       "    <tr>\n",
       "      <th>top</th>\n",
       "      <td>med</td>\n",
       "      <td>med</td>\n",
       "      <td>4</td>\n",
       "      <td>4</td>\n",
       "      <td>med</td>\n",
       "      <td>med</td>\n",
       "      <td>unacc</td>\n",
       "    </tr>\n",
       "    <tr>\n",
       "      <th>freq</th>\n",
       "      <td>432</td>\n",
       "      <td>432</td>\n",
       "      <td>432</td>\n",
       "      <td>576</td>\n",
       "      <td>576</td>\n",
       "      <td>576</td>\n",
       "      <td>1210</td>\n",
       "    </tr>\n",
       "  </tbody>\n",
       "</table>\n",
       "</div>"
      ],
      "text/plain": [
       "       Buying Maintenence Doors Persons Lugloot Safety Class Values\n",
       "count    1728        1728  1728    1728    1728   1728         1728\n",
       "unique      4           4     4       3       3      3            4\n",
       "top       med         med     4       4     med    med        unacc\n",
       "freq      432         432   432     576     576    576         1210"
      ]
     },
     "execution_count": 4,
     "metadata": {},
     "output_type": "execute_result"
    }
   ],
   "source": [
    "#Viewing the summary of the data\n",
    "df.describe()"
   ]
  },
  {
   "cell_type": "code",
   "execution_count": 5,
   "metadata": {},
   "outputs": [
    {
     "data": {
      "text/plain": [
       "Buying          0\n",
       "Maintenence     0\n",
       "Doors           0\n",
       "Persons         0\n",
       "Lugloot         0\n",
       "Safety          0\n",
       "Class Values    0\n",
       "dtype: int64"
      ]
     },
     "execution_count": 5,
     "metadata": {},
     "output_type": "execute_result"
    }
   ],
   "source": [
    "#Checking for any null values\n",
    "df.isna().sum()"
   ]
  },
  {
   "cell_type": "markdown",
   "metadata": {},
   "source": [
    "**Feature Enginnering**"
   ]
  },
  {
   "cell_type": "code",
   "execution_count": 6,
   "metadata": {},
   "outputs": [],
   "source": [
    "#assigning values for text\n",
    "df[\"Doors\"] = df[\"Doors\"].replace(\"5more\", \"5\")\n",
    "df[\"Persons\"] = df[\"Persons\"].replace(\"more\", \"5\")\n",
    "df[\"Buying\"] = df[\"Buying\"].replace(('vhigh', 'high', 'med', 'low'),(\"3\", \"2\", \"1\", \"0\"))\n",
    "df[\"Maintenence\"] = df[\"Maintenence\"].replace(('vhigh', 'high', 'med', 'low'),(\"3\", \"2\", \"1\", \"0\"))\n",
    "df[\"Lugloot\"] = df[\"Lugloot\"].replace(('small','med','big'),(\"0\",\"1\",\"2\"))\n",
    "df[\"Safety\"] = df[\"Safety\"].replace(('low','med','high'),(\"0\",\"1\",\"2\"))\n",
    "df[\"Class Values\"] = df[\"Class Values\"].replace(('unacc', 'acc', 'vgood', 'good'),(\"0\",\"1\",\"2\",\"3\"))"
   ]
  },
  {
   "cell_type": "markdown",
   "metadata": {},
   "source": [
    "**2. Extract X as all columns except the first column and Y as first column**"
   ]
  },
  {
   "cell_type": "code",
   "execution_count": 7,
   "metadata": {},
   "outputs": [],
   "source": [
    "#spiltting the dataset into training and testing datasets\n",
    "from sklearn.model_selection import KFold\n",
    "\n",
    "# Extracting X as all columns except the first column and Y as first column.\n",
    "X = df.drop([\"Class Values\"], axis = 1)\n",
    "y = df[\"Class Values\"]"
   ]
  },
  {
   "cell_type": "markdown",
   "metadata": {},
   "source": [
    "**3. Visualise the dataset**"
   ]
  },
  {
   "cell_type": "code",
   "execution_count": 8,
   "metadata": {},
   "outputs": [
    {
     "data": {
      "text/plain": [
       "<seaborn.axisgrid.PairGrid at 0x1bfb90d4888>"
      ]
     },
     "execution_count": 8,
     "metadata": {},
     "output_type": "execute_result"
    },
    {
     "data": {
      "image/png": "[encoded data removed]",
      "text/plain": [
       "<Figure size 1260x1260 with 56 Axes>"
      ]
     },
     "metadata": {
      "needs_background": "light"
     },
     "output_type": "display_data"
    }
   ],
   "source": [
    "#viweing the relationshp between the variables\n",
    "sns.pairplot(df,palette='viridis')"
   ]
  },
  {
   "cell_type": "code",
   "execution_count": 9,
   "metadata": {},
   "outputs": [],
   "source": [
    "#importing the datasets\n",
    "df1 = pd.read_csv(r\"F:\\M.tech\\Study Materials\\2nd Sem Materials\\Machine Learning\\Slides\\Assignment - 1\\Set 3\\Q2\\car_data.csv\")"
   ]
  },
  {
   "cell_type": "code",
   "execution_count": 10,
   "metadata": {},
   "outputs": [
    {
     "data": {
      "text/plain": [
       "<matplotlib.axes._subplots.AxesSubplot at 0x1bfbaf3bc08>"
      ]
     },
     "execution_count": 10,
     "metadata": {},
     "output_type": "execute_result"
    },
    {
     "data": {
      "image/png": "[encoded data removed]",
      "text/plain": [
       "<Figure size 864x432 with 1 Axes>"
      ]
     },
     "metadata": {
      "needs_background": "light"
     },
     "output_type": "display_data"
    }
   ],
   "source": [
    "#Visualisation of buying vs class values\n",
    "X1 = df1[\"Buying\"]\n",
    "Y1 = df1[\"Safety\"]\n",
    "hue1 = df[\"Class Values\"]\n",
    "plt.figure(figsize=(12, 6))\n",
    "sns.countplot(x=X1, hue=hue1)"
   ]
  },
  {
   "cell_type": "markdown",
   "metadata": {},
   "source": [
    "**3. Visualize the correlation between all the variables of dataset**"
   ]
  },
  {
   "cell_type": "code",
   "execution_count": 11,
   "metadata": {},
   "outputs": [],
   "source": [
    "#Performing correlations between the variables\n",
    "df1[\"Doors\"] = df1[\"Doors\"].replace(\"5more\", 5)\n",
    "df1[\"Persons\"] = df1[\"Persons\"].replace(\"more\", 5)\n",
    "df1[\"Buying\"] = df1[\"Buying\"].replace(('vhigh', 'high', 'med', 'low'),(3, 2, 1, 0))\n",
    "df1[\"Maintenence\"] = df1[\"Maintenence\"].replace(('vhigh', 'high', 'med', 'low'),(3, 2, 1, 0))\n",
    "df1[\"Lugloot\"] = df1[\"Lugloot\"].replace(('small','med','big'),(0,1,2))\n",
    "df1[\"Safety\"] = df1[\"Safety\"].replace(('low','med','high'),(0,1,2))\n",
    "df1[\"Class Values\"] = df1[\"Class Values\"].replace(('unacc', 'acc', 'vgood', 'good'),(0,1,2,3))"
   ]
  },
  {
   "cell_type": "code",
   "execution_count": 12,
   "metadata": {},
   "outputs": [
    {
     "data": {
      "text/html": [
       "<div>\n",
       "<style scoped>\n",
       "    .dataframe tbody tr th:only-of-type {\n",
       "        vertical-align: middle;\n",
       "    }\n",
       "\n",
       "    .dataframe tbody tr th {\n",
       "        vertical-align: top;\n",
       "    }\n",
       "\n",
       "    .dataframe thead th {\n",
       "        text-align: right;\n",
       "    }\n",
       "</style>\n",
       "<table border=\"1\" class=\"dataframe\">\n",
       "  <thead>\n",
       "    <tr style=\"text-align: right;\">\n",
       "      <th></th>\n",
       "      <th>Buying</th>\n",
       "      <th>Maintenence</th>\n",
       "      <th>Lugloot</th>\n",
       "      <th>Safety</th>\n",
       "      <th>Class Values</th>\n",
       "    </tr>\n",
       "  </thead>\n",
       "  <tbody>\n",
       "    <tr>\n",
       "      <th>Buying</th>\n",
       "      <td>1.000000</td>\n",
       "      <td>0.000000</td>\n",
       "      <td>0.000000</td>\n",
       "      <td>0.000000</td>\n",
       "      <td>-0.286532</td>\n",
       "    </tr>\n",
       "    <tr>\n",
       "      <th>Maintenence</th>\n",
       "      <td>0.000000</td>\n",
       "      <td>1.000000</td>\n",
       "      <td>0.000000</td>\n",
       "      <td>0.000000</td>\n",
       "      <td>-0.254656</td>\n",
       "    </tr>\n",
       "    <tr>\n",
       "      <th>Lugloot</th>\n",
       "      <td>0.000000</td>\n",
       "      <td>0.000000</td>\n",
       "      <td>1.000000</td>\n",
       "      <td>0.000000</td>\n",
       "      <td>0.121453</td>\n",
       "    </tr>\n",
       "    <tr>\n",
       "      <th>Safety</th>\n",
       "      <td>0.000000</td>\n",
       "      <td>0.000000</td>\n",
       "      <td>0.000000</td>\n",
       "      <td>1.000000</td>\n",
       "      <td>0.402313</td>\n",
       "    </tr>\n",
       "    <tr>\n",
       "      <th>Class Values</th>\n",
       "      <td>-0.286532</td>\n",
       "      <td>-0.254656</td>\n",
       "      <td>0.121453</td>\n",
       "      <td>0.402313</td>\n",
       "      <td>1.000000</td>\n",
       "    </tr>\n",
       "  </tbody>\n",
       "</table>\n",
       "</div>"
      ],
      "text/plain": [
       "                Buying  Maintenence   Lugloot    Safety  Class Values\n",
       "Buying        1.000000     0.000000  0.000000  0.000000     -0.286532\n",
       "Maintenence   0.000000     1.000000  0.000000  0.000000     -0.254656\n",
       "Lugloot       0.000000     0.000000  1.000000  0.000000      0.121453\n",
       "Safety        0.000000     0.000000  0.000000  1.000000      0.402313\n",
       "Class Values -0.286532    -0.254656  0.121453  0.402313      1.000000"
      ]
     },
     "execution_count": 12,
     "metadata": {},
     "output_type": "execute_result"
    }
   ],
   "source": [
    "df1.corr()"
   ]
  },
  {
   "cell_type": "code",
   "execution_count": 13,
   "metadata": {},
   "outputs": [
    {
     "data": {
      "text/plain": [
       "<matplotlib.axes._subplots.AxesSubplot at 0x1bfbaed8b88>"
      ]
     },
     "execution_count": 13,
     "metadata": {},
     "output_type": "execute_result"
    },
    {
     "data": {
      "image/png": "[encoded data removed]",
      "text/plain": [
       "<Figure size 864x432 with 2 Axes>"
      ]
     },
     "metadata": {
      "needs_background": "light"
     },
     "output_type": "display_data"
    }
   ],
   "source": [
    "#Visualzing the heatmap for the correlated data\n",
    "plt.figure(figsize=(12,6))\n",
    "sns.heatmap(df1.corr(),annot=True,cmap=\"YlGnBu\")"
   ]
  },
  {
   "cell_type": "markdown",
   "metadata": {},
   "source": [
    "**3. Split the data into training set and testing set.  Perform 10-fold cross validation.**"
   ]
  },
  {
   "cell_type": "code",
   "execution_count": 14,
   "metadata": {},
   "outputs": [
    {
     "name": "stdout",
     "output_type": "stream",
     "text": [
      "TRAIN: [ 173  174  175 ... 1725 1726 1727] TEST: [  0   1   2   3   4   5   6   7   8   9  10  11  12  13  14  15  16  17\n",
      "  18  19  20  21  22  23  24  25  26  27  28  29  30  31  32  33  34  35\n",
      "  36  37  38  39  40  41  42  43  44  45  46  47  48  49  50  51  52  53\n",
      "  54  55  56  57  58  59  60  61  62  63  64  65  66  67  68  69  70  71\n",
      "  72  73  74  75  76  77  78  79  80  81  82  83  84  85  86  87  88  89\n",
      "  90  91  92  93  94  95  96  97  98  99 100 101 102 103 104 105 106 107\n",
      " 108 109 110 111 112 113 114 115 116 117 118 119 120 121 122 123 124 125\n",
      " 126 127 128 129 130 131 132 133 134 135 136 137 138 139 140 141 142 143\n",
      " 144 145 146 147 148 149 150 151 152 153 154 155 156 157 158 159 160 161\n",
      " 162 163 164 165 166 167 168 169 170 171 172]\n",
      "TRAIN: [   0    1    2 ... 1725 1726 1727] TEST: [173 174 175 176 177 178 179 180 181 182 183 184 185 186 187 188 189 190\n",
      " 191 192 193 194 195 196 197 198 199 200 201 202 203 204 205 206 207 208\n",
      " 209 210 211 212 213 214 215 216 217 218 219 220 221 222 223 224 225 226\n",
      " 227 228 229 230 231 232 233 234 235 236 237 238 239 240 241 242 243 244\n",
      " 245 246 247 248 249 250 251 252 253 254 255 256 257 258 259 260 261 262\n",
      " 263 264 265 266 267 268 269 270 271 272 273 274 275 276 277 278 279 280\n",
      " 281 282 283 284 285 286 287 288 289 290 291 292 293 294 295 296 297 298\n",
      " 299 300 301 302 303 304 305 306 307 308 309 310 311 312 313 314 315 316\n",
      " 317 318 319 320 321 322 323 324 325 326 327 328 329 330 331 332 333 334\n",
      " 335 336 337 338 339 340 341 342 343 344 345]\n",
      "TRAIN: [   0    1    2 ... 1725 1726 1727] TEST: [346 347 348 349 350 351 352 353 354 355 356 357 358 359 360 361 362 363\n",
      " 364 365 366 367 368 369 370 371 372 373 374 375 376 377 378 379 380 381\n",
      " 382 383 384 385 386 387 388 389 390 391 392 393 394 395 396 397 398 399\n",
      " 400 401 402 403 404 405 406 407 408 409 410 411 412 413 414 415 416 417\n",
      " 418 419 420 421 422 423 424 425 426 427 428 429 430 431 432 433 434 435\n",
      " 436 437 438 439 440 441 442 443 444 445 446 447 448 449 450 451 452 453\n",
      " 454 455 456 457 458 459 460 461 462 463 464 465 466 467 468 469 470 471\n",
      " 472 473 474 475 476 477 478 479 480 481 482 483 484 485 486 487 488 489\n",
      " 490 491 492 493 494 495 496 497 498 499 500 501 502 503 504 505 506 507\n",
      " 508 509 510 511 512 513 514 515 516 517 518]\n",
      "TRAIN: [   0    1    2 ... 1725 1726 1727] TEST: [519 520 521 522 523 524 525 526 527 528 529 530 531 532 533 534 535 536\n",
      " 537 538 539 540 541 542 543 544 545 546 547 548 549 550 551 552 553 554\n",
      " 555 556 557 558 559 560 561 562 563 564 565 566 567 568 569 570 571 572\n",
      " 573 574 575 576 577 578 579 580 581 582 583 584 585 586 587 588 589 590\n",
      " 591 592 593 594 595 596 597 598 599 600 601 602 603 604 605 606 607 608\n",
      " 609 610 611 612 613 614 615 616 617 618 619 620 621 622 623 624 625 626\n",
      " 627 628 629 630 631 632 633 634 635 636 637 638 639 640 641 642 643 644\n",
      " 645 646 647 648 649 650 651 652 653 654 655 656 657 658 659 660 661 662\n",
      " 663 664 665 666 667 668 669 670 671 672 673 674 675 676 677 678 679 680\n",
      " 681 682 683 684 685 686 687 688 689 690 691]\n",
      "TRAIN: [   0    1    2 ... 1725 1726 1727] TEST: [692 693 694 695 696 697 698 699 700 701 702 703 704 705 706 707 708 709\n",
      " 710 711 712 713 714 715 716 717 718 719 720 721 722 723 724 725 726 727\n",
      " 728 729 730 731 732 733 734 735 736 737 738 739 740 741 742 743 744 745\n",
      " 746 747 748 749 750 751 752 753 754 755 756 757 758 759 760 761 762 763\n",
      " 764 765 766 767 768 769 770 771 772 773 774 775 776 777 778 779 780 781\n",
      " 782 783 784 785 786 787 788 789 790 791 792 793 794 795 796 797 798 799\n",
      " 800 801 802 803 804 805 806 807 808 809 810 811 812 813 814 815 816 817\n",
      " 818 819 820 821 822 823 824 825 826 827 828 829 830 831 832 833 834 835\n",
      " 836 837 838 839 840 841 842 843 844 845 846 847 848 849 850 851 852 853\n",
      " 854 855 856 857 858 859 860 861 862 863 864]\n",
      "TRAIN: [   0    1    2 ... 1725 1726 1727] TEST: [ 865  866  867  868  869  870  871  872  873  874  875  876  877  878\n",
      "  879  880  881  882  883  884  885  886  887  888  889  890  891  892\n",
      "  893  894  895  896  897  898  899  900  901  902  903  904  905  906\n",
      "  907  908  909  910  911  912  913  914  915  916  917  918  919  920\n",
      "  921  922  923  924  925  926  927  928  929  930  931  932  933  934\n",
      "  935  936  937  938  939  940  941  942  943  944  945  946  947  948\n",
      "  949  950  951  952  953  954  955  956  957  958  959  960  961  962\n",
      "  963  964  965  966  967  968  969  970  971  972  973  974  975  976\n",
      "  977  978  979  980  981  982  983  984  985  986  987  988  989  990\n",
      "  991  992  993  994  995  996  997  998  999 1000 1001 1002 1003 1004\n",
      " 1005 1006 1007 1008 1009 1010 1011 1012 1013 1014 1015 1016 1017 1018\n",
      " 1019 1020 1021 1022 1023 1024 1025 1026 1027 1028 1029 1030 1031 1032\n",
      " 1033 1034 1035 1036 1037]\n",
      "TRAIN: [   0    1    2 ... 1725 1726 1727] TEST: [1038 1039 1040 1041 1042 1043 1044 1045 1046 1047 1048 1049 1050 1051\n",
      " 1052 1053 1054 1055 1056 1057 1058 1059 1060 1061 1062 1063 1064 1065\n",
      " 1066 1067 1068 1069 1070 1071 1072 1073 1074 1075 1076 1077 1078 1079\n",
      " 1080 1081 1082 1083 1084 1085 1086 1087 1088 1089 1090 1091 1092 1093\n",
      " 1094 1095 1096 1097 1098 1099 1100 1101 1102 1103 1104 1105 1106 1107\n",
      " 1108 1109 1110 1111 1112 1113 1114 1115 1116 1117 1118 1119 1120 1121\n",
      " 1122 1123 1124 1125 1126 1127 1128 1129 1130 1131 1132 1133 1134 1135\n",
      " 1136 1137 1138 1139 1140 1141 1142 1143 1144 1145 1146 1147 1148 1149\n",
      " 1150 1151 1152 1153 1154 1155 1156 1157 1158 1159 1160 1161 1162 1163\n",
      " 1164 1165 1166 1167 1168 1169 1170 1171 1172 1173 1174 1175 1176 1177\n",
      " 1178 1179 1180 1181 1182 1183 1184 1185 1186 1187 1188 1189 1190 1191\n",
      " 1192 1193 1194 1195 1196 1197 1198 1199 1200 1201 1202 1203 1204 1205\n",
      " 1206 1207 1208 1209 1210]\n",
      "TRAIN: [   0    1    2 ... 1725 1726 1727] TEST: [1211 1212 1213 1214 1215 1216 1217 1218 1219 1220 1221 1222 1223 1224\n",
      " 1225 1226 1227 1228 1229 1230 1231 1232 1233 1234 1235 1236 1237 1238\n",
      " 1239 1240 1241 1242 1243 1244 1245 1246 1247 1248 1249 1250 1251 1252\n",
      " 1253 1254 1255 1256 1257 1258 1259 1260 1261 1262 1263 1264 1265 1266\n",
      " 1267 1268 1269 1270 1271 1272 1273 1274 1275 1276 1277 1278 1279 1280\n",
      " 1281 1282 1283 1284 1285 1286 1287 1288 1289 1290 1291 1292 1293 1294\n",
      " 1295 1296 1297 1298 1299 1300 1301 1302 1303 1304 1305 1306 1307 1308\n",
      " 1309 1310 1311 1312 1313 1314 1315 1316 1317 1318 1319 1320 1321 1322\n",
      " 1323 1324 1325 1326 1327 1328 1329 1330 1331 1332 1333 1334 1335 1336\n",
      " 1337 1338 1339 1340 1341 1342 1343 1344 1345 1346 1347 1348 1349 1350\n",
      " 1351 1352 1353 1354 1355 1356 1357 1358 1359 1360 1361 1362 1363 1364\n",
      " 1365 1366 1367 1368 1369 1370 1371 1372 1373 1374 1375 1376 1377 1378\n",
      " 1379 1380 1381 1382 1383]\n",
      "TRAIN: [   0    1    2 ... 1725 1726 1727] TEST: [1384 1385 1386 1387 1388 1389 1390 1391 1392 1393 1394 1395 1396 1397\n",
      " 1398 1399 1400 1401 1402 1403 1404 1405 1406 1407 1408 1409 1410 1411\n",
      " 1412 1413 1414 1415 1416 1417 1418 1419 1420 1421 1422 1423 1424 1425\n",
      " 1426 1427 1428 1429 1430 1431 1432 1433 1434 1435 1436 1437 1438 1439\n",
      " 1440 1441 1442 1443 1444 1445 1446 1447 1448 1449 1450 1451 1452 1453\n",
      " 1454 1455 1456 1457 1458 1459 1460 1461 1462 1463 1464 1465 1466 1467\n",
      " 1468 1469 1470 1471 1472 1473 1474 1475 1476 1477 1478 1479 1480 1481\n",
      " 1482 1483 1484 1485 1486 1487 1488 1489 1490 1491 1492 1493 1494 1495\n",
      " 1496 1497 1498 1499 1500 1501 1502 1503 1504 1505 1506 1507 1508 1509\n",
      " 1510 1511 1512 1513 1514 1515 1516 1517 1518 1519 1520 1521 1522 1523\n",
      " 1524 1525 1526 1527 1528 1529 1530 1531 1532 1533 1534 1535 1536 1537\n",
      " 1538 1539 1540 1541 1542 1543 1544 1545 1546 1547 1548 1549 1550 1551\n",
      " 1552 1553 1554 1555]\n",
      "TRAIN: [   0    1    2 ... 1553 1554 1555] TEST: [1556 1557 1558 1559 1560 1561 1562 1563 1564 1565 1566 1567 1568 1569\n",
      " 1570 1571 1572 1573 1574 1575 1576 1577 1578 1579 1580 1581 1582 1583\n",
      " 1584 1585 1586 1587 1588 1589 1590 1591 1592 1593 1594 1595 1596 1597\n",
      " 1598 1599 1600 1601 1602 1603 1604 1605 1606 1607 1608 1609 1610 1611\n",
      " 1612 1613 1614 1615 1616 1617 1618 1619 1620 1621 1622 1623 1624 1625\n",
      " 1626 1627 1628 1629 1630 1631 1632 1633 1634 1635 1636 1637 1638 1639\n",
      " 1640 1641 1642 1643 1644 1645 1646 1647 1648 1649 1650 1651 1652 1653\n",
      " 1654 1655 1656 1657 1658 1659 1660 1661 1662 1663 1664 1665 1666 1667\n",
      " 1668 1669 1670 1671 1672 1673 1674 1675 1676 1677 1678 1679 1680 1681\n",
      " 1682 1683 1684 1685 1686 1687 1688 1689 1690 1691 1692 1693 1694 1695\n",
      " 1696 1697 1698 1699 1700 1701 1702 1703 1704 1705 1706 1707 1708 1709\n",
      " 1710 1711 1712 1713 1714 1715 1716 1717 1718 1719 1720 1721 1722 1723\n",
      " 1724 1725 1726 1727]\n"
     ]
    }
   ],
   "source": [
    "#let's view the trained and test data\n",
    "kf = KFold(n_splits=10, random_state=None, shuffle=False)\n",
    "for train_index, test_index in kf.split(X, y=df[\"Class Values\"]):\n",
    "    print(\"TRAIN:\", train_index, \"TEST:\", test_index)\n",
    "    X_train, X_test = X.values[train_index], X.values[test_index]\n",
    "    y_train, y_test = y.values[train_index], y.values[test_index]"
   ]
  },
  {
   "cell_type": "markdown",
   "metadata": {},
   "source": [
    "**4. Train a Logistic regression model for the dataset**"
   ]
  },
  {
   "cell_type": "code",
   "execution_count": 15,
   "metadata": {},
   "outputs": [
    {
     "name": "stderr",
     "output_type": "stream",
     "text": [
      "C:\\Users\\Sharath Vaidyanath\\anaconda3\\lib\\site-packages\\sklearn\\linear_model\\_logistic.py:940: ConvergenceWarning: lbfgs failed to converge (status=1):\n",
      "STOP: TOTAL NO. of ITERATIONS REACHED LIMIT.\n",
      "\n",
      "Increase the number of iterations (max_iter) or scale the data as shown in:\n",
      "    https://scikit-learn.org/stable/modules/preprocessing.html\n",
      "Please also refer to the documentation for alternative solver options:\n",
      "    https://scikit-learn.org/stable/modules/linear_model.html#logistic-regression\n",
      "  extra_warning_msg=_LOGISTIC_SOLVER_CONVERGENCE_MSG)\n"
     ]
    },
    {
     "data": {
      "text/plain": [
       "LogisticRegression(C=1.0, class_weight=None, dual=False, fit_intercept=True,\n",
       "                   intercept_scaling=1, l1_ratio=None, max_iter=100,\n",
       "                   multi_class='auto', n_jobs=None, penalty='l2',\n",
       "                   random_state=None, solver='lbfgs', tol=0.0001, verbose=0,\n",
       "                   warm_start=False)"
      ]
     },
     "execution_count": 15,
     "metadata": {},
     "output_type": "execute_result"
    }
   ],
   "source": [
    "from sklearn.linear_model import LogisticRegression\n",
    "logreg = LogisticRegression()\n",
    "logreg.fit(X_train, y_train)"
   ]
  },
  {
   "cell_type": "markdown",
   "metadata": {},
   "source": [
    "**5. Compute the accuracy and confusion matrix**"
   ]
  },
  {
   "cell_type": "code",
   "execution_count": 16,
   "metadata": {},
   "outputs": [
    {
     "name": "stdout",
     "output_type": "stream",
     "text": [
      "Training set accuracy score: 87.082\n",
      "Test set accuracy score: 62.209\n"
     ]
    }
   ],
   "source": [
    "#Let's view the accuracy score \n",
    "train_acc = logreg.score(X_train,y_train) * 100\n",
    "test_acc = logreg.score(X_test,y_test) * 100\n",
    "print(\"Training set accuracy score: {:.3f}\".format(train_acc))\n",
    "print(\"Test set accuracy score: {:.3f}\".format(test_acc))"
   ]
  },
  {
   "cell_type": "code",
   "execution_count": 17,
   "metadata": {},
   "outputs": [
    {
     "data": {
      "text/plain": [
       "<matplotlib.axes._subplots.AxesSubplot at 0x1bfbba5ffc8>"
      ]
     },
     "execution_count": 17,
     "metadata": {},
     "output_type": "execute_result"
    },
    {
     "data": {
      "image/png": "[encoded data removed]",
      "text/plain": [
       "<Figure size 432x288 with 2 Axes>"
      ]
     },
     "metadata": {
      "needs_background": "light"
     },
     "output_type": "display_data"
    }
   ],
   "source": [
    "#Let's plot the confusion matrix\n",
    "from sklearn.metrics import confusion_matrix\n",
    "y_pred = logreg.predict(X_test)\n",
    "conf_matrix = confusion_matrix(y_test, y_pred)\n",
    "sns.heatmap(conf_matrix,annot=True,cmap=\"YlGnBu\")"
   ]
  },
  {
   "cell_type": "markdown",
   "metadata": {},
   "source": [
    "**6. Plot the decision boundary, visualize training and test results**"
   ]
  },
  {
   "cell_type": "code",
   "execution_count": 18,
   "metadata": {},
   "outputs": [],
   "source": [
    "X1 = df1.drop([\"Class Values\"], axis = 1)\n",
    "y1 = df1[\"Class Values\"]"
   ]
  },
  {
   "cell_type": "code",
   "execution_count": 19,
   "metadata": {},
   "outputs": [
    {
     "name": "stderr",
     "output_type": "stream",
     "text": [
      "No handles with labels found to put in legend.\n"
     ]
    },
    {
     "data": {
      "image/png": "[encoded data removed]",
      "text/plain": [
       "<Figure size 576x432 with 1 Axes>"
      ]
     },
     "metadata": {},
     "output_type": "display_data"
    }
   ],
   "source": [
    "# Plot the decision boundary.\n",
    "# point in the mesh [x_min, x_max]x[y_min, y_max].\n",
    "logreg1 = LogisticRegression()\n",
    "reduced_data = X1.iloc[:, :2].values\n",
    "logreg1.fit(reduced_data, y1)\n",
    "x_min, x_max = reduced_data[:, 0].min() - .5, reduced_data[:, 0].max() + .5\n",
    "y_min, y_max = reduced_data[:, 1].min() - .5, reduced_data[:, 1].max() + .5\n",
    "h = 0.02 # step size in the mesh\n",
    "xx, yy = np.meshgrid(np.arange(x_min, x_max, h), np.arange(y_min, y_max, h))\n",
    "grid = np.c_[xx.ravel(), yy.ravel()]\n",
    "Z = logreg1.predict(grid)\n",
    "Z = Z.reshape(xx.shape)\n",
    "plt.figure(1, figsize=(8,6))\n",
    "plt.pcolormesh(xx, yy, Z, cmap=plt.cm.coolwarm)\n",
    "# Plot also the training points\n",
    "plt.scatter(X1.iloc[:, 0].values, X1.iloc[:, 1].values, c=y1, edgecolors='k', cmap=plt.cm.viridis)\n",
    "\n",
    "plt.title(\"Decision Plot for the dataset\")\n",
    "plt.xlabel('X')\n",
    "plt.ylabel('y')\n",
    "plt.legend()\n",
    "\n",
    "plt.xlim(xx.min(), xx.max())\n",
    "plt.ylim(yy.min(), yy.max())\n",
    "plt.xticks(())\n",
    "plt.yticks(())\n",
    "\n",
    "plt.show()"
   ]
  },
  {
   "cell_type": "code",
   "execution_count": 20,
   "metadata": {},
   "outputs": [
    {
     "data": {
      "text/plain": [
       "<matplotlib.collections.PathCollection at 0x1bfbe448188>"
      ]
     },
     "execution_count": 20,
     "metadata": {},
     "output_type": "execute_result"
    },
    {
     "data": {
      "image/png": "[encoded data removed]",
      "text/plain": [
       "<Figure size 432x288 with 1 Axes>"
      ]
     },
     "metadata": {
      "needs_background": "light"
     },
     "output_type": "display_data"
    }
   ],
   "source": [
    "# visualizing training and test results\n",
    "plt.scatter(y_test,y_pred,c='blue')"
   ]
  },
  {
   "cell_type": "markdown",
   "metadata": {},
   "source": [
    "**7. Predict and display the class label of a car with all attributes** "
   ]
  },
  {
   "cell_type": "code",
   "execution_count": 21,
   "metadata": {},
   "outputs": [
    {
     "name": "stdout",
     "output_type": "stream",
     "text": [
      "X=['0' '1' '3' '4' '2' '2'], Predicted=2\n",
      "X=['0' '1' '3' '5' '0' '0'], Predicted=0\n",
      "X=['0' '1' '3' '5' '0' '1'], Predicted=1\n",
      "X=['0' '1' '3' '5' '0' '2'], Predicted=3\n",
      "X=['0' '1' '3' '5' '1' '0'], Predicted=0\n",
      "X=['0' '1' '3' '5' '1' '1'], Predicted=3\n",
      "X=['0' '1' '3' '5' '1' '2'], Predicted=2\n",
      "X=['0' '1' '3' '5' '2' '0'], Predicted=1\n",
      "X=['0' '1' '3' '5' '2' '1'], Predicted=3\n",
      "X=['0' '1' '3' '5' '2' '2'], Predicted=2\n",
      "X=['0' '1' '4' '2' '0' '0'], Predicted=0\n",
      "X=['0' '1' '4' '2' '0' '1'], Predicted=0\n",
      "X=['0' '1' '4' '2' '0' '2'], Predicted=0\n",
      "X=['0' '1' '4' '2' '1' '0'], Predicted=0\n",
      "X=['0' '1' '4' '2' '1' '1'], Predicted=0\n",
      "X=['0' '1' '4' '2' '1' '2'], Predicted=0\n",
      "X=['0' '1' '4' '2' '2' '0'], Predicted=0\n",
      "X=['0' '1' '4' '2' '2' '1'], Predicted=0\n",
      "X=['0' '1' '4' '2' '2' '2'], Predicted=2\n",
      "X=['0' '1' '4' '4' '0' '0'], Predicted=0\n",
      "X=['0' '1' '4' '4' '0' '1'], Predicted=1\n",
      "X=['0' '1' '4' '4' '0' '2'], Predicted=3\n",
      "X=['0' '1' '4' '4' '1' '0'], Predicted=0\n",
      "X=['0' '1' '4' '4' '1' '1'], Predicted=1\n",
      "X=['0' '1' '4' '4' '1' '2'], Predicted=2\n",
      "X=['0' '1' '4' '4' '2' '0'], Predicted=0\n",
      "X=['0' '1' '4' '4' '2' '1'], Predicted=1\n",
      "X=['0' '1' '4' '4' '2' '2'], Predicted=2\n",
      "X=['0' '1' '4' '5' '0' '0'], Predicted=0\n",
      "X=['0' '1' '4' '5' '0' '1'], Predicted=1\n",
      "X=['0' '1' '4' '5' '0' '2'], Predicted=3\n",
      "X=['0' '1' '4' '5' '1' '0'], Predicted=1\n",
      "X=['0' '1' '4' '5' '1' '1'], Predicted=3\n",
      "X=['0' '1' '4' '5' '1' '2'], Predicted=2\n",
      "X=['0' '1' '4' '5' '2' '0'], Predicted=1\n",
      "X=['0' '1' '4' '5' '2' '1'], Predicted=2\n",
      "X=['0' '1' '4' '5' '2' '2'], Predicted=2\n",
      "X=['0' '1' '5' '2' '0' '0'], Predicted=0\n",
      "X=['0' '1' '5' '2' '0' '1'], Predicted=0\n",
      "X=['0' '1' '5' '2' '0' '2'], Predicted=0\n",
      "X=['0' '1' '5' '2' '1' '0'], Predicted=0\n",
      "X=['0' '1' '5' '2' '1' '1'], Predicted=0\n",
      "X=['0' '1' '5' '2' '1' '2'], Predicted=1\n",
      "X=['0' '1' '5' '2' '2' '0'], Predicted=0\n",
      "X=['0' '1' '5' '2' '2' '1'], Predicted=0\n",
      "X=['0' '1' '5' '2' '2' '2'], Predicted=2\n",
      "X=['0' '1' '5' '4' '0' '0'], Predicted=0\n",
      "X=['0' '1' '5' '4' '0' '1'], Predicted=1\n",
      "X=['0' '1' '5' '4' '0' '2'], Predicted=3\n",
      "X=['0' '1' '5' '4' '1' '0'], Predicted=0\n",
      "X=['0' '1' '5' '4' '1' '1'], Predicted=1\n",
      "X=['0' '1' '5' '4' '1' '2'], Predicted=2\n",
      "X=['0' '1' '5' '4' '2' '0'], Predicted=0\n",
      "X=['0' '1' '5' '4' '2' '1'], Predicted=1\n",
      "X=['0' '1' '5' '4' '2' '2'], Predicted=2\n",
      "X=['0' '1' '5' '5' '0' '0'], Predicted=0\n",
      "X=['0' '1' '5' '5' '0' '1'], Predicted=1\n",
      "X=['0' '1' '5' '5' '0' '2'], Predicted=2\n",
      "X=['0' '1' '5' '5' '1' '0'], Predicted=1\n",
      "X=['0' '1' '5' '5' '1' '1'], Predicted=3\n",
      "X=['0' '1' '5' '5' '1' '2'], Predicted=2\n",
      "X=['0' '1' '5' '5' '2' '0'], Predicted=1\n",
      "X=['0' '1' '5' '5' '2' '1'], Predicted=2\n",
      "X=['0' '1' '5' '5' '2' '2'], Predicted=2\n",
      "X=['0' '0' '2' '2' '0' '0'], Predicted=0\n",
      "X=['0' '0' '2' '2' '0' '1'], Predicted=0\n",
      "X=['0' '0' '2' '2' '0' '2'], Predicted=3\n",
      "X=['0' '0' '2' '2' '1' '0'], Predicted=0\n",
      "X=['0' '0' '2' '2' '1' '1'], Predicted=0\n",
      "X=['0' '0' '2' '2' '1' '2'], Predicted=3\n",
      "X=['0' '0' '2' '2' '2' '0'], Predicted=0\n",
      "X=['0' '0' '2' '2' '2' '1'], Predicted=0\n",
      "X=['0' '0' '2' '2' '2' '2'], Predicted=3\n",
      "X=['0' '0' '2' '4' '0' '0'], Predicted=0\n",
      "X=['0' '0' '2' '4' '0' '1'], Predicted=3\n",
      "X=['0' '0' '2' '4' '0' '2'], Predicted=3\n",
      "X=['0' '0' '2' '4' '1' '0'], Predicted=0\n",
      "X=['0' '0' '2' '4' '1' '1'], Predicted=3\n",
      "X=['0' '0' '2' '4' '1' '2'], Predicted=3\n",
      "X=['0' '0' '2' '4' '2' '0'], Predicted=3\n",
      "X=['0' '0' '2' '4' '2' '1'], Predicted=3\n",
      "X=['0' '0' '2' '4' '2' '2'], Predicted=2\n",
      "X=['0' '0' '2' '5' '0' '0'], Predicted=3\n",
      "X=['0' '0' '2' '5' '0' '1'], Predicted=3\n",
      "X=['0' '0' '2' '5' '0' '2'], Predicted=3\n",
      "X=['0' '0' '2' '5' '1' '0'], Predicted=3\n",
      "X=['0' '0' '2' '5' '1' '1'], Predicted=3\n",
      "X=['0' '0' '2' '5' '1' '2'], Predicted=3\n",
      "X=['0' '0' '2' '5' '2' '0'], Predicted=3\n",
      "X=['0' '0' '2' '5' '2' '1'], Predicted=3\n",
      "X=['0' '0' '2' '5' '2' '2'], Predicted=2\n",
      "X=['0' '0' '3' '2' '0' '0'], Predicted=0\n",
      "X=['0' '0' '3' '2' '0' '1'], Predicted=0\n",
      "X=['0' '0' '3' '2' '0' '2'], Predicted=3\n",
      "X=['0' '0' '3' '2' '1' '0'], Predicted=0\n",
      "X=['0' '0' '3' '2' '1' '1'], Predicted=0\n",
      "X=['0' '0' '3' '2' '1' '2'], Predicted=3\n",
      "X=['0' '0' '3' '2' '2' '0'], Predicted=0\n",
      "X=['0' '0' '3' '2' '2' '1'], Predicted=3\n",
      "X=['0' '0' '3' '2' '2' '2'], Predicted=3\n",
      "X=['0' '0' '3' '4' '0' '0'], Predicted=0\n",
      "X=['0' '0' '3' '4' '0' '1'], Predicted=3\n",
      "X=['0' '0' '3' '4' '0' '2'], Predicted=3\n",
      "X=['0' '0' '3' '4' '1' '0'], Predicted=3\n",
      "X=['0' '0' '3' '4' '1' '1'], Predicted=3\n",
      "X=['0' '0' '3' '4' '1' '2'], Predicted=3\n",
      "X=['0' '0' '3' '4' '2' '0'], Predicted=3\n",
      "X=['0' '0' '3' '4' '2' '1'], Predicted=3\n",
      "X=['0' '0' '3' '4' '2' '2'], Predicted=2\n",
      "X=['0' '0' '3' '5' '0' '0'], Predicted=3\n",
      "X=['0' '0' '3' '5' '0' '1'], Predicted=3\n",
      "X=['0' '0' '3' '5' '0' '2'], Predicted=3\n",
      "X=['0' '0' '3' '5' '1' '0'], Predicted=3\n",
      "X=['0' '0' '3' '5' '1' '1'], Predicted=3\n",
      "X=['0' '0' '3' '5' '1' '2'], Predicted=3\n",
      "X=['0' '0' '3' '5' '2' '0'], Predicted=3\n",
      "X=['0' '0' '3' '5' '2' '1'], Predicted=3\n",
      "X=['0' '0' '3' '5' '2' '2'], Predicted=2\n",
      "X=['0' '0' '4' '2' '0' '0'], Predicted=0\n",
      "X=['0' '0' '4' '2' '0' '1'], Predicted=0\n",
      "X=['0' '0' '4' '2' '0' '2'], Predicted=3\n",
      "X=['0' '0' '4' '2' '1' '0'], Predicted=0\n",
      "X=['0' '0' '4' '2' '1' '1'], Predicted=0\n",
      "X=['0' '0' '4' '2' '1' '2'], Predicted=3\n",
      "X=['0' '0' '4' '2' '2' '0'], Predicted=0\n",
      "X=['0' '0' '4' '2' '2' '1'], Predicted=3\n",
      "X=['0' '0' '4' '2' '2' '2'], Predicted=2\n",
      "X=['0' '0' '4' '4' '0' '0'], Predicted=0\n",
      "X=['0' '0' '4' '4' '0' '1'], Predicted=3\n",
      "X=['0' '0' '4' '4' '0' '2'], Predicted=3\n",
      "X=['0' '0' '4' '4' '1' '0'], Predicted=3\n",
      "X=['0' '0' '4' '4' '1' '1'], Predicted=3\n",
      "X=['0' '0' '4' '4' '1' '2'], Predicted=3\n",
      "X=['0' '0' '4' '4' '2' '0'], Predicted=3\n",
      "X=['0' '0' '4' '4' '2' '1'], Predicted=3\n",
      "X=['0' '0' '4' '4' '2' '2'], Predicted=2\n",
      "X=['0' '0' '4' '5' '0' '0'], Predicted=3\n",
      "X=['0' '0' '4' '5' '0' '1'], Predicted=3\n",
      "X=['0' '0' '4' '5' '0' '2'], Predicted=3\n",
      "X=['0' '0' '4' '5' '1' '0'], Predicted=3\n",
      "X=['0' '0' '4' '5' '1' '1'], Predicted=3\n",
      "X=['0' '0' '4' '5' '1' '2'], Predicted=3\n",
      "X=['0' '0' '4' '5' '2' '0'], Predicted=3\n",
      "X=['0' '0' '4' '5' '2' '1'], Predicted=3\n",
      "X=['0' '0' '4' '5' '2' '2'], Predicted=2\n",
      "X=['0' '0' '5' '2' '0' '0'], Predicted=0\n",
      "X=['0' '0' '5' '2' '0' '1'], Predicted=0\n",
      "X=['0' '0' '5' '2' '0' '2'], Predicted=3\n",
      "X=['0' '0' '5' '2' '1' '0'], Predicted=0\n",
      "X=['0' '0' '5' '2' '1' '1'], Predicted=0\n",
      "X=['0' '0' '5' '2' '1' '2'], Predicted=3\n",
      "X=['0' '0' '5' '2' '2' '0'], Predicted=0\n",
      "X=['0' '0' '5' '2' '2' '1'], Predicted=3\n",
      "X=['0' '0' '5' '2' '2' '2'], Predicted=2\n",
      "X=['0' '0' '5' '4' '0' '0'], Predicted=0\n",
      "X=['0' '0' '5' '4' '0' '1'], Predicted=3\n",
      "X=['0' '0' '5' '4' '0' '2'], Predicted=3\n",
      "X=['0' '0' '5' '4' '1' '0'], Predicted=3\n",
      "X=['0' '0' '5' '4' '1' '1'], Predicted=3\n",
      "X=['0' '0' '5' '4' '1' '2'], Predicted=3\n",
      "X=['0' '0' '5' '4' '2' '0'], Predicted=3\n",
      "X=['0' '0' '5' '4' '2' '1'], Predicted=3\n",
      "X=['0' '0' '5' '4' '2' '2'], Predicted=2\n",
      "X=['0' '0' '5' '5' '0' '0'], Predicted=3\n",
      "X=['0' '0' '5' '5' '0' '1'], Predicted=3\n",
      "X=['0' '0' '5' '5' '0' '2'], Predicted=3\n",
      "X=['0' '0' '5' '5' '1' '0'], Predicted=3\n",
      "X=['0' '0' '5' '5' '1' '1'], Predicted=3\n",
      "X=['0' '0' '5' '5' '1' '2'], Predicted=2\n",
      "X=['0' '0' '5' '5' '2' '0'], Predicted=3\n",
      "X=['0' '0' '5' '5' '2' '1'], Predicted=3\n",
      "X=['0' '0' '5' '5' '2' '2'], Predicted=2\n"
     ]
    }
   ],
   "source": [
    "for i in range(len(X_test)):\n",
    "    print(\"X=%s, Predicted=%s\" % (X_test[i], y_pred[i]))"
   ]
  },
  {
   "cell_type": "code",
   "execution_count": 22,
   "metadata": {},
   "outputs": [
    {
     "data": {
      "text/html": [
       "<div>\n",
       "<style scoped>\n",
       "    .dataframe tbody tr th:only-of-type {\n",
       "        vertical-align: middle;\n",
       "    }\n",
       "\n",
       "    .dataframe tbody tr th {\n",
       "        vertical-align: top;\n",
       "    }\n",
       "\n",
       "    .dataframe thead th {\n",
       "        text-align: right;\n",
       "    }\n",
       "</style>\n",
       "<table border=\"1\" class=\"dataframe\">\n",
       "  <thead>\n",
       "    <tr style=\"text-align: right;\">\n",
       "      <th></th>\n",
       "      <th>Buying</th>\n",
       "      <th>Maintenence</th>\n",
       "      <th>Doors</th>\n",
       "      <th>Persons</th>\n",
       "      <th>Lugloot</th>\n",
       "      <th>Safety</th>\n",
       "      <th>Class Values</th>\n",
       "      <th>Prediction</th>\n",
       "    </tr>\n",
       "  </thead>\n",
       "  <tbody>\n",
       "    <tr>\n",
       "      <th>0</th>\n",
       "      <td>vhigh</td>\n",
       "      <td>vhigh</td>\n",
       "      <td>2</td>\n",
       "      <td>2</td>\n",
       "      <td>small</td>\n",
       "      <td>low</td>\n",
       "      <td>unacc</td>\n",
       "      <td>high</td>\n",
       "    </tr>\n",
       "    <tr>\n",
       "      <th>1</th>\n",
       "      <td>vhigh</td>\n",
       "      <td>vhigh</td>\n",
       "      <td>2</td>\n",
       "      <td>2</td>\n",
       "      <td>small</td>\n",
       "      <td>med</td>\n",
       "      <td>unacc</td>\n",
       "      <td>low</td>\n",
       "    </tr>\n",
       "    <tr>\n",
       "      <th>2</th>\n",
       "      <td>vhigh</td>\n",
       "      <td>vhigh</td>\n",
       "      <td>2</td>\n",
       "      <td>2</td>\n",
       "      <td>small</td>\n",
       "      <td>high</td>\n",
       "      <td>unacc</td>\n",
       "      <td>med</td>\n",
       "    </tr>\n",
       "    <tr>\n",
       "      <th>3</th>\n",
       "      <td>vhigh</td>\n",
       "      <td>vhigh</td>\n",
       "      <td>2</td>\n",
       "      <td>2</td>\n",
       "      <td>med</td>\n",
       "      <td>low</td>\n",
       "      <td>unacc</td>\n",
       "      <td>vhigh</td>\n",
       "    </tr>\n",
       "    <tr>\n",
       "      <th>4</th>\n",
       "      <td>vhigh</td>\n",
       "      <td>vhigh</td>\n",
       "      <td>2</td>\n",
       "      <td>2</td>\n",
       "      <td>med</td>\n",
       "      <td>med</td>\n",
       "      <td>unacc</td>\n",
       "      <td>low</td>\n",
       "    </tr>\n",
       "    <tr>\n",
       "      <th>...</th>\n",
       "      <td>...</td>\n",
       "      <td>...</td>\n",
       "      <td>...</td>\n",
       "      <td>...</td>\n",
       "      <td>...</td>\n",
       "      <td>...</td>\n",
       "      <td>...</td>\n",
       "      <td>...</td>\n",
       "    </tr>\n",
       "    <tr>\n",
       "      <th>1723</th>\n",
       "      <td>low</td>\n",
       "      <td>low</td>\n",
       "      <td>5more</td>\n",
       "      <td>more</td>\n",
       "      <td>med</td>\n",
       "      <td>med</td>\n",
       "      <td>good</td>\n",
       "      <td>NaN</td>\n",
       "    </tr>\n",
       "    <tr>\n",
       "      <th>1724</th>\n",
       "      <td>low</td>\n",
       "      <td>low</td>\n",
       "      <td>5more</td>\n",
       "      <td>more</td>\n",
       "      <td>med</td>\n",
       "      <td>high</td>\n",
       "      <td>vgood</td>\n",
       "      <td>NaN</td>\n",
       "    </tr>\n",
       "    <tr>\n",
       "      <th>1725</th>\n",
       "      <td>low</td>\n",
       "      <td>low</td>\n",
       "      <td>5more</td>\n",
       "      <td>more</td>\n",
       "      <td>big</td>\n",
       "      <td>low</td>\n",
       "      <td>unacc</td>\n",
       "      <td>NaN</td>\n",
       "    </tr>\n",
       "    <tr>\n",
       "      <th>1726</th>\n",
       "      <td>low</td>\n",
       "      <td>low</td>\n",
       "      <td>5more</td>\n",
       "      <td>more</td>\n",
       "      <td>big</td>\n",
       "      <td>med</td>\n",
       "      <td>good</td>\n",
       "      <td>NaN</td>\n",
       "    </tr>\n",
       "    <tr>\n",
       "      <th>1727</th>\n",
       "      <td>low</td>\n",
       "      <td>low</td>\n",
       "      <td>5more</td>\n",
       "      <td>more</td>\n",
       "      <td>big</td>\n",
       "      <td>high</td>\n",
       "      <td>vgood</td>\n",
       "      <td>NaN</td>\n",
       "    </tr>\n",
       "  </tbody>\n",
       "</table>\n",
       "<p>1728 rows × 8 columns</p>\n",
       "</div>"
      ],
      "text/plain": [
       "     Buying Maintenence  Doors Persons Lugloot Safety Class Values Prediction\n",
       "0     vhigh       vhigh      2       2   small    low        unacc       high\n",
       "1     vhigh       vhigh      2       2   small    med        unacc        low\n",
       "2     vhigh       vhigh      2       2   small   high        unacc        med\n",
       "3     vhigh       vhigh      2       2     med    low        unacc      vhigh\n",
       "4     vhigh       vhigh      2       2     med    med        unacc        low\n",
       "...     ...         ...    ...     ...     ...    ...          ...        ...\n",
       "1723    low         low  5more    more     med    med         good        NaN\n",
       "1724    low         low  5more    more     med   high        vgood        NaN\n",
       "1725    low         low  5more    more     big    low        unacc        NaN\n",
       "1726    low         low  5more    more     big    med         good        NaN\n",
       "1727    low         low  5more    more     big   high        vgood        NaN\n",
       "\n",
       "[1728 rows x 8 columns]"
      ]
     },
     "execution_count": 22,
     "metadata": {},
     "output_type": "execute_result"
    }
   ],
   "source": [
    "df2 = pd.concat([df, pd.Series(y_pred)], axis=1)\n",
    "df2.columns = ['Buying', 'Maintenence', 'Doors', 'Persons', 'Lugloot', 'Safety','Class Values','Prediction']\n",
    "\n",
    "#Reverting back to text\n",
    "df2[\"Doors\"] = df2[\"Doors\"].replace(\"5\", \"5more\")\n",
    "df2[\"Persons\"] = df2[\"Persons\"].replace(\"5\", \"more\")\n",
    "df2[\"Buying\"] = df2[\"Buying\"].replace((\"3\", \"2\", \"1\", \"0\"),('vhigh', 'high', 'med', 'low'))\n",
    "df2[\"Maintenence\"] = df2[\"Maintenence\"].replace((\"3\", \"2\", \"1\", \"0\"),('vhigh', 'high', 'med', 'low'))\n",
    "df2[\"Lugloot\"] = df2[\"Lugloot\"].replace((\"0\",\"1\",\"2\"),('small','med','big'))\n",
    "df2[\"Safety\"] = df2[\"Safety\"].replace((\"0\",\"1\",\"2\"),('low','med','high'))\n",
    "df2[\"Class Values\"] = df2[\"Class Values\"].replace((\"0\",\"1\",\"2\",\"3\"),('unacc', 'acc', 'vgood', 'good'))\n",
    "df2[\"Prediction\"] = df2[\"Prediction\"].replace((\"3\", \"2\", \"1\", \"0\"),('vhigh', 'high', 'med', 'low'))\n",
    "\n",
    "###The final Data :\n",
    "df2"
   ]
  },
  {
   "cell_type": "code",
   "execution_count": 23,
   "metadata": {},
   "outputs": [],
   "source": [
    "#exporting the output dataset\n",
    "df2.to_csv(r\"F:\\M.tech\\Study Materials\\2nd Sem Materials\\Machine Learning\\Slides\\Assignment - 1\\Set 3\\Q2\\output_Q2.csv\")"
   ]
  }
 ],
 "metadata": {
  "kernelspec": {
   "display_name": "Python 3",
   "language": "python",
   "name": "python3"
  },
  "language_info": {
   "codemirror_mode": {
    "name": "ipython",
    "version": 3
   },
   "file_extension": ".py",
   "mimetype": "text/x-python",
   "name": "python",
   "nbconvert_exporter": "python",
   "pygments_lexer": "ipython3",
   "version": "3.7.6"
  }
 },
 "nbformat": 4,
 "nbformat_minor": 4
}
