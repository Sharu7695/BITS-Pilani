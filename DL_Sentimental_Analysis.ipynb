{
 "cells": [
  {
   "cell_type": "markdown",
   "metadata": {},
   "source": [
    "<img src = \"https://www.bits-pilani.ac.in/Uploads/Campus/BITS_university_logo.gif\">"
   ]
  },
  {
   "cell_type": "markdown",
   "metadata": {},
   "source": [
    "<h2><center>Deep Learning : Assignment 1 </center></h2>"
   ]
  },
  {
   "cell_type": "markdown",
   "metadata": {},
   "source": [
    "<style>\n",
    "table {\n",
    "  font-family: arial, sans-serif;\n",
    "  border-collapse: collapse;\n",
    "  width: 100%;\n",
    "}\n",
    "\n",
    "td, th {\n",
    "  border: 1px solid #dddddd;\n",
    "  text-align: left;\n",
    "  padding: 8px;\n",
    "}\n",
    "\n",
    "tr:nth-child(even) {\n",
    "  background-color: #dddddd;\n",
    "}\n",
    "</style>\n",
    "\n",
    "<h2>Group No : 091</h2>\n",
    "\n",
    "<table>\n",
    "  <tr>\n",
    "    <th>Full Name</th>\n",
    "    <th>BITS ID</th>\n",
    "  </tr>\n",
    "  <tr>\n",
    "    <td>Sharath Vaidyanath</td>\n",
    "    <td>2019HC04539</td>\n",
    "  </tr>\n",
    "    <td>Ramachandran N</td>\n",
    "    <td>2019HC04537</td>\n",
    "   <tr>\n",
    "    <td>Hasthagiri Ganesh C V</td>\n",
    "    <td>2019HC04323</td>\n",
    "</table>"
   ]
  },
  {
   "cell_type": "markdown",
   "metadata": {},
   "source": [
    "**Q2: Question No.2. NLP Dataset:**"
   ]
  },
  {
   "cell_type": "markdown",
   "metadata": {},
   "source": [
    "**1.Import Libraries/Dataset**"
   ]
  },
  {
   "cell_type": "code",
   "execution_count": 1,
   "metadata": {},
   "outputs": [],
   "source": [
    "##Import the required libraries and the dataset (use Google Drive if required).##\n",
    "import pandas as pd\n",
    "import numpy as np\n",
    "import matplotlib.pyplot as plt\n",
    "import seaborn as sns\n",
    "import tensorflow as tf\n",
    "from tensorflow import keras\n",
    "import warnings\n",
    "warnings.filterwarnings('ignore')\n",
    "%matplotlib inline"
   ]
  },
  {
   "cell_type": "code",
   "execution_count": 2,
   "metadata": {},
   "outputs": [
    {
     "data": {
      "text/plain": [
       "''"
      ]
     },
     "execution_count": 2,
     "metadata": {},
     "output_type": "execute_result"
    }
   ],
   "source": [
    "##Check the GPU available (recommended- use free GPU provided by Google Colab)##\n",
    "import tensorflow as tf\n",
    "tf.test.gpu_device_name()"
   ]
  },
  {
   "cell_type": "code",
   "execution_count": 3,
   "metadata": {},
   "outputs": [],
   "source": [
    "import os\n",
    "imdb_dir = r\"F:\\M.tech\\Study Materials\\3rd Sem materials\\Deep Learning\\Assignment_1\\aclImdb_v1\\aclImdb\\train\"\n",
    "train_dir = os.path.join(imdb_dir)"
   ]
  },
  {
   "cell_type": "code",
   "execution_count": 4,
   "metadata": {},
   "outputs": [],
   "source": [
    "#Load the texts and add labels as ‘pos’ and ‘neg’\n",
    "labels = []\n",
    "texts = []\n",
    "\n",
    "for label_type in ['neg','pos']:\n",
    "    dir_name = os.path.join(train_dir, label_type)\n",
    "    for fname in os.listdir(dir_name):\n",
    "        if fname[-4:] == '.txt':\n",
    "            f = open(os.path.join(dir_name,fname),encoding='utf-8')\n",
    "            texts.append(f.read())\n",
    "            f.close\n",
    "        if label_type == 'neg':\n",
    "            labels.append(0)\n",
    "        else:\n",
    "            labels.append(1)"
   ]
  },
  {
   "cell_type": "markdown",
   "metadata": {},
   "source": [
    "**2.Data Visualization**"
   ]
  },
  {
   "cell_type": "code",
   "execution_count": 5,
   "metadata": {},
   "outputs": [
    {
     "name": "stdout",
     "output_type": "stream",
     "text": [
      "Pos: \n",
      "\n",
      "Label:  1\n",
      "When I heard about \"Hammerhead\" being released on DVD and finally found it at my local DVD store, I thought \"well, just another cheap monster movie from Nu Image\". Those guys around Boaz Davidson and Avi Lerner produced cheap but very entertaining B - Pictures in the past few months but also some very disappointing movies. So I didn't expect much, especially after having watched the rather disappointing \"Shark Zone\" just a few days before. But \"Hammerhead\" turned out to be an excellent revival of the 1950s monster movies. We have a mad scientist, a group of people in a dangerous situation, screaming women and damsels in distress, man-eating plants and of course we have the creature, a huge mutant mix between a man and a hammerhead shark. Everything you need for an entertaining monster movie. The only thing missing are graphic sex scenes and nudity which you expect in movies of this kind, but since the movie was made for TV it's understandable why these scenes are missing. And it doesn't matter anyway cause \"Hammerhead\" is action and horror entertainment at it's best. There are two reasons why I gave it seven out of ten points, though: First of all, the monster isn't seen very often and the showdown with the destruction of the creature is too fast and poorly done, and secondly, William Forsythe just isn't the right guy for the \"hero\" part and for falling in love with gorgeous Hunter Tylo. Other than that, I can highly recommend this movie for any monster movie fan out there. Grab yourselves a cool drink and some popcorn, watch this movie and have fun. Jasper P. Morgan\n",
      "\n",
      "\n",
      "Label:  1\n",
      "I have only managed to see this classic for the first time a few weeks ago. Being made almost 30 years ago I thought the scary moments would be rather tame. Boy was I wrong. There are some great moments that sent shivers down my spine. Even the acting was great, Jamie Lee Curtis was fantastic and Donald Pleasance was superb.<br /><br />On the downside it can be rather slow to start but once it gets going there is no stopping it. It makes all the copycats, e.g. Nightmare on Elm Street, Scream look very tame. I can't really say it is Carpenter's best because I have not seen many of his, the only one I can remember of his is Starman (I think he made it). Halloween is the crowning achievement of the horror genre.\n",
      "\n",
      "\n",
      "Neg\n",
      "Label:  0\n",
      "\"It appears that many critics find the idea of a Woody Allen drama unpalatable.\" And for good reason: they are unbearably wooden and pretentious imitations of Bergman. And let's not kid ourselves: critics were mostly supportive of Allen's Bergman pretensions, Allen's whining accusations to the contrary notwithstanding. What I don't get is this: why was Allen generally applauded for his originality in imitating Bergman, but the contemporaneous Brian DePalma was excoriated for \"ripping off\" Hitchcock in his suspense/horror films? In Robin Wood's view, it's a strange form of cultural snobbery. I would have to agree with that.\n",
      "\n",
      "\n",
      "Label:  0\n",
      "I don't know who to blame, the timid writers or the clueless director. It seemed to be one of those movies where so much was paid to the stars (Angie, Charlie, Denise, Rosanna and Jon) that there wasn't enough left to really make a movie. This could have been very entertaining, but there was a veil of timidity, even cowardice, that hung over each scene. Since it got an R rating anyway why was the ubiquitous bubble bath scene shot with a 70-year-old woman and not Angie Harmon? Why does Sheen sleepwalk through potentially hot relationships WITH TWO OF THE MOST BEAUTIFUL AND SEXY ACTRESSES in the world? If they were only looking for laughs why not cast Whoopi Goldberg and Judy Tenuta instead? This was so predictable I was surprised to find that the director wasn't a five year old. What a waste, not just for the viewers but for the actors as well.\n"
     ]
    }
   ],
   "source": [
    "#Print at least two texts from each class of the dataset(pos and neg), for a sanity check that labels match the text.\n",
    "print(\"Pos: \\n\")\n",
    "print('Label: ',labels[22001])\n",
    "print(texts[22001])\n",
    "print(\"\\n\")\n",
    "print('Label: ',labels[22003])\n",
    "print(texts[22003])\n",
    "print(\"\\n\")\n",
    "#############\n",
    "print(\"Neg\")\n",
    "print('Label: ',labels[5])\n",
    "print(texts[5])\n",
    "print(\"\\n\")\n",
    "print('Label: ',labels[7])\n",
    "print(texts[7])"
   ]
  },
  {
   "cell_type": "code",
   "execution_count": 7,
   "metadata": {},
   "outputs": [
    {
     "name": "stdout",
     "output_type": "stream",
     "text": [
      "The data shaps is : (25000, 100)\n",
      "\n",
      "\n",
      "The Train data shape is :  (15000, 100) and (15000,)\n",
      "The Test data shape is :  (5000, 100) and (5000,)\n"
     ]
    }
   ],
   "source": [
    "#Print the shapes of train and test data.\n",
    "from tensorflow.keras.preprocessing.text import Tokenizer\n",
    "words = 10000\n",
    "tokenizer = Tokenizer(num_words = words)\n",
    "tokenizer.fit_on_texts(texts)\n",
    "sequences = tokenizer.texts_to_sequences(texts)\n",
    "\n",
    "word_index = tokenizer.word_index\n",
    "\n",
    "sequences[22003][:10]\n",
    "\n",
    "from tensorflow.keras.preprocessing.sequence import pad_sequences\n",
    "max_length = 100\n",
    "data = pad_sequences(sequences,maxlen=max_length)\n",
    "print(\"The data shaps is :\",data.shape)\n",
    "\n",
    "labels = np.asarray(labels)\n",
    "indices = np.arange(data.shape[0])\n",
    "np.random.shuffle(indices)\n",
    "data = data[indices]\n",
    "labels = labels[indices]\n",
    "\n",
    "training_samples = 15000\n",
    "validation_samples = 5000\n",
    "test_samples = 5000\n",
    "\n",
    "x_train = data[:training_samples]\n",
    "y_train = labels[:training_samples]\n",
    "x_val = data[training_samples: training_samples + validation_samples]\n",
    "y_val = labels[training_samples: training_samples + validation_samples]\n",
    "x_test = data[:test_samples]\n",
    "y_test = labels[:test_samples]\n",
    "print(\"\\n\")\n",
    "print(\"The Train data shape is : \", x_train.shape, \"and\", y_train.shape)\n",
    "print(\"The Test data shape is : \", x_test.shape, \"and\", y_test.shape)"
   ]
  },
  {
   "cell_type": "markdown",
   "metadata": {},
   "source": [
    "**3.Data Pre-processing**"
   ]
  },
  {
   "cell_type": "code",
   "execution_count": 8,
   "metadata": {},
   "outputs": [
    {
     "name": "stdout",
     "output_type": "stream",
     "text": [
      "There are 4027 word-vector.\n"
     ]
    }
   ],
   "source": [
    "#Need for this Step - Since the models we use cannot accept string inputs or cannot be of the string format. \n",
    "#We have to come up with a way of handling this step. \n",
    "#The discussion of different ways of handling this step is out of the scope of this assignment.\n",
    "#Please use this pre-trained embedding layer (Links to an external site.) from TensorFlow hub for this assignment. \n",
    "#This link also has a code snippet on how to convert a sentence to a vector. \n",
    "#Refer to that for further clarity on this subject.\n",
    "\n",
    "#train data\n",
    "import os\n",
    "imdb_dir_1 = r\"F:\\M.tech\\Study Materials\\3rd Sem materials\\Deep Learning\\Assignment_1\\aclImdb_v1\\aclImdb\\train\"\n",
    "train_dir_1 = os.path.join(imdb_dir_1)\n",
    "\n",
    "embeddings_index = {}\n",
    "\n",
    "for label_type_1 in ['neg','pos']:\n",
    "    dir_name_1 = os.path.join(train_dir_1, label_type_1)\n",
    "    for fname in os.listdir(dir_name_1):\n",
    "        if fname[-4:] == '.txt':\n",
    "            f = open(os.path.join(dir_name_1,fname),encoding='UTF-8')\n",
    "            for line in f:\n",
    "                values = line.split()\n",
    "                word = values[0]\n",
    "                coefs = np.asarray(values[1:])\n",
    "                embeddings_index[word] = coefs\n",
    "            f.close()\n",
    "\n",
    "print('There are %s word-vector.' % len(embeddings_index))"
   ]
  },
  {
   "cell_type": "code",
   "execution_count": 9,
   "metadata": {},
   "outputs": [
    {
     "name": "stdout",
     "output_type": "stream",
     "text": [
      "There are 3933 word-vector.\n"
     ]
    }
   ],
   "source": [
    "#for test data\n",
    "\n",
    "import os\n",
    "imdb_dir_2 = r\"F:\\M.tech\\Study Materials\\3rd Sem materials\\Deep Learning\\Assignment_1\\aclImdb_v1\\aclImdb\\test\"\n",
    "train_dir_2 = os.path.join(imdb_dir_2)\n",
    "\n",
    "embeddings_index_test = {}\n",
    "\n",
    "for label_type_2 in ['neg','pos']:\n",
    "    dir_name_2 = os.path.join(train_dir_2, label_type_2)\n",
    "    for fname_1 in os.listdir(dir_name_2):\n",
    "        if fname[-4:] == '.txt':\n",
    "            f = open(os.path.join(dir_name_2,fname_1),encoding='UTF-8')\n",
    "            for line in f:\n",
    "                values_1 = line.split()\n",
    "                word_1 = values_1[0]\n",
    "                coefs_1 = np.asarray(values_1[1:])\n",
    "                embeddings_index_test[word_1] = coefs_1\n",
    "            f.close()\n",
    "\n",
    "print('There are %s word-vector.' % len(embeddings_index_test))"
   ]
  },
  {
   "cell_type": "markdown",
   "metadata": {},
   "source": [
    "**4.Model Building**"
   ]
  },
  {
   "cell_type": "code",
   "execution_count": 10,
   "metadata": {},
   "outputs": [],
   "source": [
    "import tensorflow as tf\n",
    "from tensorflow import keras\n",
    "from tensorflow.keras.models import Sequential \n",
    "from tensorflow.keras.layers import Flatten,Dense,Dropout,Embedding\n",
    "from tensorflow.keras.regularizers import l2"
   ]
  },
  {
   "cell_type": "code",
   "execution_count": 11,
   "metadata": {},
   "outputs": [],
   "source": [
    "#Sequential Model layers- Use AT LEAST 3 hidden layers with appropriate input for each. \n",
    "#Choose the best number for hidden units and give reasons.\n",
    "#Add L2 regularization to all the layers.\n",
    "#Add one layer of dropout at the appropriate position and give reasons.\n",
    "#Choose the appropriate activation function for all the layers.\n",
    "\n",
    "embedding_dim = 100\n",
    "\n",
    "model=Sequential()\n",
    "model.add(Embedding(words,embedding_dim,input_length=max_length))\n",
    "model.add(Flatten())\n",
    "## Layer 1\n",
    "model.add(Dense(70, kernel_regularizer=l2(0.01), bias_regularizer=l2(0.01), activation = 'relu'))\n",
    "model.add(Dropout(0.2))\n",
    "## Layer 2\n",
    "model.add(Dense(50, kernel_regularizer=l2(0.01), bias_regularizer=l2(0.01), activation = 'relu'))\n",
    "model.add(Dropout(0.2))\n",
    "## Layer 3\n",
    "model.add(Dense(20, kernel_regularizer=l2(0.01), bias_regularizer=l2(0.01), activation = 'relu'))\n",
    "model.add(Dropout(0.2))\n",
    "## Final Layer\n",
    "model.add(Dense(1,activation='sigmoid'))"
   ]
  },
  {
   "cell_type": "code",
   "execution_count": 12,
   "metadata": {
    "scrolled": true
   },
   "outputs": [
    {
     "name": "stdout",
     "output_type": "stream",
     "text": [
      "Model: \"sequential\"\n",
      "_________________________________________________________________\n",
      "Layer (type)                 Output Shape              Param #   \n",
      "=================================================================\n",
      "embedding (Embedding)        (None, 100, 100)          1000000   \n",
      "_________________________________________________________________\n",
      "flatten (Flatten)            (None, 10000)             0         \n",
      "_________________________________________________________________\n",
      "dense (Dense)                (None, 70)                700070    \n",
      "_________________________________________________________________\n",
      "dropout (Dropout)            (None, 70)                0         \n",
      "_________________________________________________________________\n",
      "dense_1 (Dense)              (None, 50)                3550      \n",
      "_________________________________________________________________\n",
      "dropout_1 (Dropout)          (None, 50)                0         \n",
      "_________________________________________________________________\n",
      "dense_2 (Dense)              (None, 20)                1020      \n",
      "_________________________________________________________________\n",
      "dropout_2 (Dropout)          (None, 20)                0         \n",
      "_________________________________________________________________\n",
      "dense_3 (Dense)              (None, 1)                 21        \n",
      "=================================================================\n",
      "Total params: 1,704,661\n",
      "Trainable params: 1,704,661\n",
      "Non-trainable params: 0\n",
      "_________________________________________________________________\n"
     ]
    }
   ],
   "source": [
    "#Print the model summary\n",
    "model.summary()"
   ]
  },
  {
   "cell_type": "markdown",
   "metadata": {},
   "source": [
    "**5.Model Compilation**"
   ]
  },
  {
   "cell_type": "code",
   "execution_count": 13,
   "metadata": {},
   "outputs": [],
   "source": [
    "#Compile the model with the appropriate loss function.\n",
    "#Use an appropriate optimizer. Give reasons for the choice of learning rate and its value.\n",
    "#Use accuracy as a metric\n",
    "model.compile(loss='binary_crossentropy',optimizer='adam', metrics='accuracy')"
   ]
  },
  {
   "cell_type": "markdown",
   "metadata": {},
   "source": [
    "**6.Model Training**"
   ]
  },
  {
   "cell_type": "code",
   "execution_count": 14,
   "metadata": {
    "scrolled": true
   },
   "outputs": [
    {
     "name": "stdout",
     "output_type": "stream",
     "text": [
      "Epoch 1/25\n",
      "59/59 [==============================] - 11s 193ms/step - loss: 1.4817 - accuracy: 0.5377 - val_loss: 1.0953 - val_accuracy: 0.6826\n",
      "Epoch 2/25\n",
      "59/59 [==============================] - 7s 119ms/step - loss: 0.9212 - accuracy: 0.7633 - val_loss: 0.7175 - val_accuracy: 0.8284\n",
      "Epoch 3/25\n",
      "59/59 [==============================] - 7s 110ms/step - loss: 0.5967 - accuracy: 0.8773 - val_loss: 0.6002 - val_accuracy: 0.8374\n",
      "Epoch 4/25\n",
      "59/59 [==============================] - 6s 108ms/step - loss: 0.3920 - accuracy: 0.9500 - val_loss: 0.5795 - val_accuracy: 0.8404\n",
      "Epoch 5/25\n",
      "59/59 [==============================] - 8s 135ms/step - loss: 0.2870 - accuracy: 0.9805 - val_loss: 0.5623 - val_accuracy: 0.8428\n",
      "Epoch 6/25\n",
      "59/59 [==============================] - 9s 146ms/step - loss: 0.2298 - accuracy: 0.9911 - val_loss: 0.5418 - val_accuracy: 0.8394\n",
      "Epoch 7/25\n",
      "59/59 [==============================] - 8s 134ms/step - loss: 0.1978 - accuracy: 0.9947 - val_loss: 0.5255 - val_accuracy: 0.8462\n",
      "Epoch 8/25\n",
      "59/59 [==============================] - 8s 144ms/step - loss: 0.1771 - accuracy: 0.9971 - val_loss: 0.5128 - val_accuracy: 0.8478\n",
      "Epoch 9/25\n",
      "59/59 [==============================] - 8s 139ms/step - loss: 0.1636 - accuracy: 0.9986 - val_loss: 0.5072 - val_accuracy: 0.8480\n",
      "Epoch 10/25\n",
      "59/59 [==============================] - 9s 156ms/step - loss: 0.1529 - accuracy: 0.9990 - val_loss: 0.5023 - val_accuracy: 0.8480\n",
      "Epoch 11/25\n",
      "59/59 [==============================] - 7s 122ms/step - loss: 0.1436 - accuracy: 0.9988 - val_loss: 0.4919 - val_accuracy: 0.8468\n",
      "Epoch 12/25\n",
      "59/59 [==============================] - 6s 107ms/step - loss: 0.1371 - accuracy: 0.9993 - val_loss: 0.4884 - val_accuracy: 0.8510\n",
      "Epoch 13/25\n",
      "59/59 [==============================] - 6s 109ms/step - loss: 0.1294 - accuracy: 0.9995 - val_loss: 0.4886 - val_accuracy: 0.8492\n",
      "Epoch 14/25\n",
      "59/59 [==============================] - 9s 161ms/step - loss: 0.1230 - accuracy: 0.9996 - val_loss: 0.4734 - val_accuracy: 0.8556\n",
      "Epoch 15/25\n",
      "59/59 [==============================] - 7s 115ms/step - loss: 0.1185 - accuracy: 0.9997 - val_loss: 0.4910 - val_accuracy: 0.8442\n",
      "Epoch 16/25\n",
      "59/59 [==============================] - 7s 121ms/step - loss: 0.1171 - accuracy: 0.9997 - val_loss: 0.4900 - val_accuracy: 0.8456\n",
      "Epoch 17/25\n",
      "59/59 [==============================] - 7s 122ms/step - loss: 0.1118 - accuracy: 0.9997 - val_loss: 0.4839 - val_accuracy: 0.8474\n",
      "Epoch 18/25\n",
      "59/59 [==============================] - 10s 171ms/step - loss: 0.1067 - accuracy: 0.9998 - val_loss: 0.4807 - val_accuracy: 0.8492\n",
      "Epoch 19/25\n",
      "59/59 [==============================] - 10s 166ms/step - loss: 0.1044 - accuracy: 0.9996 - val_loss: 0.4820 - val_accuracy: 0.8464\n",
      "Epoch 20/25\n",
      "59/59 [==============================] - 7s 116ms/step - loss: 0.1015 - accuracy: 0.9999 - val_loss: 0.4855 - val_accuracy: 0.8478\n",
      "Epoch 21/25\n",
      "59/59 [==============================] - 7s 115ms/step - loss: 0.1012 - accuracy: 0.9995 - val_loss: 0.4901 - val_accuracy: 0.8450\n",
      "Epoch 22/25\n",
      "59/59 [==============================] - 7s 115ms/step - loss: 0.0971 - accuracy: 0.9999 - val_loss: 0.4761 - val_accuracy: 0.8466\n",
      "Epoch 23/25\n",
      "59/59 [==============================] - 7s 114ms/step - loss: 0.0953 - accuracy: 0.9999 - val_loss: 0.4831 - val_accuracy: 0.8470\n",
      "Epoch 24/25\n",
      "59/59 [==============================] - 7s 115ms/step - loss: 0.0922 - accuracy: 0.9998 - val_loss: 0.4899 - val_accuracy: 0.8508\n",
      "Epoch 25/25\n",
      "59/59 [==============================] - 7s 114ms/step - loss: 0.0910 - accuracy: 0.9999 - val_loss: 0.4992 - val_accuracy: 0.8378\n"
     ]
    }
   ],
   "source": [
    "#Train the model for an appropriate number of epochs. \n",
    "#Print the train and validation accuracy and loss for each epoch. Use the appropriate batch size.\n",
    "import time\n",
    "start = time.time()\n",
    "history = model.fit(x=x_train,y=y_train,epochs=25,batch_size=256,validation_data=(x_val,y_val))"
   ]
  },
  {
   "cell_type": "code",
   "execution_count": 15,
   "metadata": {},
   "outputs": [
    {
     "name": "stdout",
     "output_type": "stream",
     "text": [
      "\n",
      "\n"
     ]
    },
    {
     "data": {
      "image/png": "[encoded data removed]",
      "text/plain": [
       "<Figure size 432x288 with 1 Axes>"
      ]
     },
     "metadata": {
      "needs_background": "light"
     },
     "output_type": "display_data"
    },
    {
     "data": {
      "image/png": "[encoded data removed]",
      "text/plain": [
       "<Figure size 432x288 with 1 Axes>"
      ]
     },
     "metadata": {
      "needs_background": "light"
     },
     "output_type": "display_data"
    }
   ],
   "source": [
    "#Plot the loss and accuracy history graphs for both train and validation set. \n",
    "accuracy = history.history['accuracy']\n",
    "val_accuracy = history.history['val_accuracy']\n",
    "loss = history.history['loss']\n",
    "val_loss = history.history['val_loss']\n",
    "epochs = range(len(accuracy))\n",
    "plt.plot(epochs, accuracy, 'g', label='Training accuracy')\n",
    "plt.plot(epochs, val_accuracy, 'r', label='Validation accuracy')\n",
    "plt.title('Training and validation accuracy')\n",
    "plt.legend()\n",
    "plt.figure()\n",
    "print(\"\\n\")\n",
    "plt.plot(epochs, loss, 'g', label='Training loss')\n",
    "plt.plot(epochs, val_loss, 'r', label='Validation loss')\n",
    "plt.title('Training and validation loss')\n",
    "plt.legend()\n",
    "plt.show()"
   ]
  },
  {
   "cell_type": "code",
   "execution_count": 16,
   "metadata": {},
   "outputs": [
    {
     "name": "stdout",
     "output_type": "stream",
     "text": [
      "Total time taken during trainig is :  317.70690536499023 seconds\n"
     ]
    }
   ],
   "source": [
    "#Print the total time taken for training.\n",
    "print(\"Total time taken during trainig is : \", time.time() - start, \"seconds\")"
   ]
  },
  {
   "cell_type": "markdown",
   "metadata": {},
   "source": [
    "**7.Model Evaluation**"
   ]
  },
  {
   "cell_type": "code",
   "execution_count": 17,
   "metadata": {},
   "outputs": [
    {
     "name": "stdout",
     "output_type": "stream",
     "text": [
      "Test loss: 0.4991644620895386\n",
      "Test accuracy: 0.8378000259399414\n"
     ]
    }
   ],
   "source": [
    "#Print the final train and validation loss and accuracy. \n",
    "#Analyze and report the best and worst performing class.\n",
    "score = model.evaluate(x_val, y_val, verbose=0)\n",
    "print('Test loss:', score[0])\n",
    "print('Test accuracy:', score[1])"
   ]
  },
  {
   "cell_type": "code",
   "execution_count": 18,
   "metadata": {},
   "outputs": [
    {
     "name": "stdout",
     "output_type": "stream",
     "text": [
      "raw seq: [[9, 6, 3, 63, 324, 248, 1, 5825, 6, 4865, 2, 644, 139, 63, 84, 572, 638, 2848, 1198, 1, 1012]]\n",
      "padded seq: [[   0    0    0    0    0    0    0    0    0    0    0    0    0    0\n",
      "     0    0    0    0    0    0    0    0    0    0    0    0    0    0\n",
      "     0    0    0    0    0    0    0    0    0    0    0    0    0    0\n",
      "     0    0    0    0    0    0    0    0    0    0    0    0    0    0\n",
      "     0    0    0    0    0    0    0    0    0    0    0    0    0    0\n",
      "     0    0    0    0    0    0    0    0    0    9    6    3   63  324\n",
      "   248    1 5825    6 4865    2  644  139   63   84  572  638 2848 1198\n",
      "     1 1012]]\n",
      "positivity: [[0.9845675]]\n"
     ]
    }
   ],
   "source": [
    "#Print the two most incorrectly classified texts for each class in the test dataset.\n",
    "text = 'It is a really nice day. The weather is calm and cool. Something really great happened today! India won the cricket match!'\n",
    "seq_gen = tokenizer.texts_to_sequences([text])\n",
    "print('raw seq:',seq_gen)\n",
    "seq_gen = pad_sequences(seq_gen, maxlen=max_length)\n",
    "print('padded seq:',seq_gen)\n",
    "prediction = model.predict(seq_gen)\n",
    "print('positivity:',prediction)"
   ]
  },
  {
   "cell_type": "code",
   "execution_count": 19,
   "metadata": {},
   "outputs": [
    {
     "name": "stdout",
     "output_type": "stream",
     "text": [
      "raw seq: [[9, 6, 3, 63, 246, 248, 9, 6, 1040, 43, 47, 3, 173, 4, 75, 2, 1675, 4974, 8, 1, 701, 638]]\n",
      "padded seq: [[   0    0    0    0    0    0    0    0    0    0    0    0    0    0\n",
      "     0    0    0    0    0    0    0    0    0    0    0    0    0    0\n",
      "     0    0    0    0    0    0    0    0    0    0    0    0    0    0\n",
      "     0    0    0    0    0    0    0    0    0    0    0    0    0    0\n",
      "     0    0    0    0    0    0    0    0    0    0    0    0    0    0\n",
      "     0    0    0    0    0    0    0    0    9    6    3   63  246  248\n",
      "     9    6 1040   43   47    3  173    4   75    2 1675 4974    8    1\n",
      "   701  638]]\n",
      "positivity: [[0.3507291]]\n"
     ]
    }
   ],
   "source": [
    "text_1 = 'It is a really worst day. It is freezing cold out there. A lot of bad and criminal activities occured in the country today!!'\n",
    "seq_gen_1 = tokenizer.texts_to_sequences([text_1])\n",
    "print('raw seq:',seq_gen_1)\n",
    "seq_gen_1 = pad_sequences(seq_gen_1, maxlen=max_length)\n",
    "print('padded seq:',seq_gen_1)\n",
    "prediction_1 = model.predict(seq_gen_1)\n",
    "print('positivity:',prediction_1)"
   ]
  },
  {
   "cell_type": "code",
   "execution_count": 20,
   "metadata": {},
   "outputs": [],
   "source": [
    "#Predictions\n",
    "y_probs = model.predict(x_test)\n",
    "y_preds = y_probs.argmax(axis = 1)"
   ]
  },
  {
   "cell_type": "code",
   "execution_count": 21,
   "metadata": {},
   "outputs": [
    {
     "name": "stdout",
     "output_type": "stream",
     "text": [
      "Classification Report : \n",
      "\n",
      "              precision    recall  f1-score   support\n",
      "\n",
      "           0       0.50      1.00      0.66      2484\n",
      "           1       0.00      0.00      0.00      2516\n",
      "\n",
      "    accuracy                           0.50      5000\n",
      "   macro avg       0.25      0.50      0.33      5000\n",
      "weighted avg       0.25      0.50      0.33      5000\n",
      "\n"
     ]
    }
   ],
   "source": [
    "#Print confusion matrix and classification report for the validation dataset.\n",
    "from sklearn.metrics import classification_report, confusion_matrix\n",
    "print(\"Classification Report : \\n\")\n",
    "print(classification_report(y_test,y_preds))"
   ]
  },
  {
   "cell_type": "code",
   "execution_count": 22,
   "metadata": {},
   "outputs": [
    {
     "name": "stdout",
     "output_type": "stream",
     "text": [
      "Confusion Matrix : \n",
      "\n",
      "[[2484    0]\n",
      " [2516    0]]\n"
     ]
    }
   ],
   "source": [
    "print(\"Confusion Matrix : \\n\")\n",
    "print(confusion_matrix(y_test,y_preds))"
   ]
  },
  {
   "cell_type": "markdown",
   "metadata": {},
   "source": [
    "**Hyperparameter Tuning**"
   ]
  },
  {
   "cell_type": "markdown",
   "metadata": {},
   "source": [
    "**1. Batch Size: Change the value of batch size in model training**"
   ]
  },
  {
   "cell_type": "code",
   "execution_count": 23,
   "metadata": {},
   "outputs": [],
   "source": [
    "def create_model_2():\n",
    "    embedding_dim = 100\n",
    "\n",
    "    model=Sequential()\n",
    "    model.add(Embedding(words,embedding_dim,input_length=max_length))\n",
    "    model.add(Flatten())\n",
    "    ## Layer 1\n",
    "    model.add(Dense(70, kernel_regularizer=l2(0.01), bias_regularizer=l2(0.01), activation = 'relu'))\n",
    "    model.add(Dropout(0.2))\n",
    "    ## Layer 2\n",
    "    model.add(Dense(50, kernel_regularizer=l2(0.01), bias_regularizer=l2(0.01), activation = 'relu'))\n",
    "    model.add(Dropout(0.2))\n",
    "    ## Layer 3\n",
    "    model.add(Dense(20, kernel_regularizer=l2(0.01), bias_regularizer=l2(0.01), activation = 'relu'))\n",
    "    model.add(Dropout(0.2))\n",
    "    ## Final Layer\n",
    "    model.add(Dense(1,activation='sigmoid'))\n",
    "    \n",
    "    ##complie\n",
    "    model.compile(loss='binary_crossentropy',optimizer='adam', metrics='accuracy')\n",
    "    \n",
    "    return model"
   ]
  },
  {
   "cell_type": "code",
   "execution_count": 24,
   "metadata": {},
   "outputs": [],
   "source": [
    "from sklearn.model_selection import GridSearchCV\n",
    "from tensorflow.keras.wrappers.scikit_learn import KerasClassifier\n",
    "seed = 7\n",
    "np.random.seed(seed)\n",
    "\n",
    "model_init_batch_epoch_CV = KerasClassifier(build_fn=create_model_2, verbose=1)\n",
    "\n",
    "batches = [128,256, 512]"
   ]
  },
  {
   "cell_type": "code",
   "execution_count": 25,
   "metadata": {},
   "outputs": [
    {
     "name": "stdout",
     "output_type": "stream",
     "text": [
      "79/79 [==============================] - 9s 109ms/step - loss: 1.3791 - accuracy: 0.5518 - val_loss: 0.9944 - val_accuracy: 0.7168\n",
      "40/40 [==============================] - 1s 22ms/step - loss: 0.9949 - accuracy: 0.7106\n",
      "79/79 [==============================] - 9s 113ms/step - loss: 1.3857 - accuracy: 0.5654 - val_loss: 0.9854 - val_accuracy: 0.7038\n",
      "40/40 [==============================] - 1s 20ms/step - loss: 0.9838 - accuracy: 0.7010\n",
      "79/79 [==============================] - 8s 106ms/step - loss: 1.3907 - accuracy: 0.5522 - val_loss: 1.0017 - val_accuracy: 0.7014\n",
      "40/40 [==============================] - 1s 21ms/step - loss: 1.0018 - accuracy: 0.7112 0s - loss: 1.0\n",
      "40/40 [==============================] - 5s 132ms/step - loss: 1.6407 - accuracy: 0.5259 - val_loss: 1.2234 - val_accuracy: 0.6478\n",
      "20/20 [==============================] - 1s 30ms/step - loss: 1.2234 - accuracy: 0.6414\n",
      "40/40 [==============================] - 5s 127ms/step - loss: 1.6390 - accuracy: 0.5556 - val_loss: 1.2197 - val_accuracy: 0.6726\n",
      "20/20 [==============================] - 1s 27ms/step - loss: 1.2205 - accuracy: 0.6574\n",
      "40/40 [==============================] - 5s 128ms/step - loss: 1.6401 - accuracy: 0.5326 - val_loss: 1.2204 - val_accuracy: 0.5794\n",
      "20/20 [==============================] - 1s 27ms/step - loss: 1.2209 - accuracy: 0.5642\n",
      "20/20 [==============================] - 4s 194ms/step - loss: 1.9837 - accuracy: 0.4994 - val_loss: 1.4221 - val_accuracy: 0.5054\n",
      "10/10 [==============================] - 0s 45ms/step - loss: 1.4218 - accuracy: 0.5146\n",
      "20/20 [==============================] - 4s 196ms/step - loss: 1.9594 - accuracy: 0.5194 - val_loss: 1.4015 - val_accuracy: 0.5444\n",
      "10/10 [==============================] - 0s 43ms/step - loss: 1.4017 - accuracy: 0.5456\n",
      "20/20 [==============================] - 4s 193ms/step - loss: 1.9579 - accuracy: 0.5061 - val_loss: 1.4000 - val_accuracy: 0.5250\n",
      "10/10 [==============================] - 1s 50ms/step - loss: 1.4002 - accuracy: 0.5050\n",
      "118/118 [==============================] - 13s 110ms/step - loss: 1.2383 - accuracy: 0.5817 - val_loss: 0.8530 - val_accuracy: 0.7840\n"
     ]
    }
   ],
   "source": [
    "param_grid = dict(batch_size=batches)\n",
    "grid = GridSearchCV(estimator=model_init_batch_epoch_CV, param_grid=param_grid, cv=3)\n",
    "grid_result = grid.fit(x_train, y_train, validation_data=(x_val,y_val))"
   ]
  },
  {
   "cell_type": "code",
   "execution_count": 26,
   "metadata": {},
   "outputs": [
    {
     "name": "stdout",
     "output_type": "stream",
     "text": [
      "Best Accuracy for 0.7075999975204468 using {'batch_size': 128}\n",
      " mean=0.7076, std=0.004673 using {'batch_size': 128}\n",
      " mean=0.621, std=0.04069 using {'batch_size': 256}\n",
      " mean=0.5217, std=0.01733 using {'batch_size': 512}\n"
     ]
    }
   ],
   "source": [
    "print(f'Best Accuracy for {grid_result.best_score_} using {grid_result.best_params_}')\n",
    "means = grid_result.cv_results_['mean_test_score']\n",
    "stds = grid_result.cv_results_['std_test_score']\n",
    "params = grid_result.cv_results_['params']\n",
    "for mean, stdev, param in zip(means, stds, params):\n",
    "    print(f' mean={mean:.4}, std={stdev:.4} using {param}')"
   ]
  },
  {
   "cell_type": "markdown",
   "metadata": {},
   "source": [
    "**Model 1 - Model Buliding with new parameters**"
   ]
  },
  {
   "cell_type": "code",
   "execution_count": 28,
   "metadata": {},
   "outputs": [],
   "source": [
    "#Model Compilation \n",
    "model.compile(loss='binary_crossentropy',optimizer='adam', metrics='accuracy')"
   ]
  },
  {
   "cell_type": "code",
   "execution_count": 29,
   "metadata": {},
   "outputs": [
    {
     "name": "stdout",
     "output_type": "stream",
     "text": [
      "Epoch 1/25\n",
      "118/118 [==============================] - 11s 92ms/step - loss: 0.1087 - accuracy: 0.9985 - val_loss: 0.5202 - val_accuracy: 0.8428\n",
      "Epoch 2/25\n",
      "118/118 [==============================] - 10s 85ms/step - loss: 0.1047 - accuracy: 0.9989 - val_loss: 0.5333 - val_accuracy: 0.8422\n",
      "Epoch 3/25\n",
      "118/118 [==============================] - 11s 95ms/step - loss: 0.1006 - accuracy: 0.9985 - val_loss: 0.6037 - val_accuracy: 0.8312\n",
      "Epoch 4/25\n",
      "118/118 [==============================] - 10s 85ms/step - loss: 0.1032 - accuracy: 0.9991 - val_loss: 0.5170 - val_accuracy: 0.8412\n",
      "Epoch 5/25\n",
      "118/118 [==============================] - 11s 97ms/step - loss: 0.0982 - accuracy: 0.9984 - val_loss: 0.5451 - val_accuracy: 0.8384\n",
      "Epoch 6/25\n",
      "118/118 [==============================] - 10s 86ms/step - loss: 0.0991 - accuracy: 0.9988 - val_loss: 0.5352 - val_accuracy: 0.8410\n",
      "Epoch 7/25\n",
      "118/118 [==============================] - 10s 87ms/step - loss: 0.1058 - accuracy: 0.9983 - val_loss: 0.6119 - val_accuracy: 0.8354\n",
      "Epoch 8/25\n",
      "118/118 [==============================] - 10s 86ms/step - loss: 0.0989 - accuracy: 0.9987 - val_loss: 0.5314 - val_accuracy: 0.8378\n",
      "Epoch 9/25\n",
      "118/118 [==============================] - 10s 86ms/step - loss: 0.0780 - accuracy: 0.9993 - val_loss: 0.5774 - val_accuracy: 0.8380\n",
      "Epoch 10/25\n",
      "118/118 [==============================] - 12s 106ms/step - loss: 0.0866 - accuracy: 0.9993 - val_loss: 0.5665 - val_accuracy: 0.8344\n",
      "Epoch 11/25\n",
      "118/118 [==============================] - 12s 104ms/step - loss: 0.0894 - accuracy: 0.9989 - val_loss: 0.5196 - val_accuracy: 0.8424\n",
      "Epoch 12/25\n",
      "118/118 [==============================] - 12s 104ms/step - loss: 0.0721 - accuracy: 0.9995 - val_loss: 0.5101 - val_accuracy: 0.8424\n",
      "Epoch 13/25\n",
      "118/118 [==============================] - 12s 103ms/step - loss: 0.0779 - accuracy: 0.9988 - val_loss: 0.7286 - val_accuracy: 0.8226\n",
      "Epoch 14/25\n",
      "118/118 [==============================] - 12s 103ms/step - loss: 0.0930 - accuracy: 0.9985 - val_loss: 0.6638 - val_accuracy: 0.8334\n",
      "Epoch 15/25\n",
      "118/118 [==============================] - 12s 100ms/step - loss: 0.0901 - accuracy: 0.9988 - val_loss: 0.6726 - val_accuracy: 0.8260\n",
      "Epoch 16/25\n",
      "118/118 [==============================] - 10s 88ms/step - loss: 0.0808 - accuracy: 0.9992 - val_loss: 0.5764 - val_accuracy: 0.8298\n",
      "Epoch 17/25\n",
      "118/118 [==============================] - 10s 88ms/step - loss: 0.0754 - accuracy: 0.9993 - val_loss: 0.5654 - val_accuracy: 0.8378\n",
      "Epoch 18/25\n",
      "118/118 [==============================] - 11s 93ms/step - loss: 0.0875 - accuracy: 0.9987 - val_loss: 0.5355 - val_accuracy: 0.8480\n",
      "Epoch 19/25\n",
      "118/118 [==============================] - 12s 99ms/step - loss: 0.0795 - accuracy: 0.9984 - val_loss: 0.7670 - val_accuracy: 0.8200\n",
      "Epoch 20/25\n",
      "118/118 [==============================] - 12s 101ms/step - loss: 0.0797 - accuracy: 0.9988 - val_loss: 0.5821 - val_accuracy: 0.8358\n",
      "Epoch 21/25\n",
      "118/118 [==============================] - 12s 103ms/step - loss: 0.0694 - accuracy: 0.9993 - val_loss: 0.6151 - val_accuracy: 0.8328\n",
      "Epoch 22/25\n",
      "118/118 [==============================] - 11s 97ms/step - loss: 0.0614 - accuracy: 0.9993 - val_loss: 0.6621 - val_accuracy: 0.8276\n",
      "Epoch 23/25\n",
      "118/118 [==============================] - 12s 100ms/step - loss: 0.0725 - accuracy: 0.9990 - val_loss: 0.5579 - val_accuracy: 0.8368\n",
      "Epoch 24/25\n",
      "118/118 [==============================] - 12s 104ms/step - loss: 0.1031 - accuracy: 0.9983 - val_loss: 0.5668 - val_accuracy: 0.8354\n",
      "Epoch 25/25\n",
      "118/118 [==============================] - 11s 97ms/step - loss: 0.0540 - accuracy: 0.9997 - val_loss: 0.5528 - val_accuracy: 0.8386\n"
     ]
    }
   ],
   "source": [
    "##Model Training\n",
    "history_bs = model.fit(x=x_train,y=y_train,epochs=25,batch_size=128,validation_data=(x_val,y_val))"
   ]
  },
  {
   "cell_type": "code",
   "execution_count": 30,
   "metadata": {},
   "outputs": [
    {
     "name": "stdout",
     "output_type": "stream",
     "text": [
      "\n",
      "\n"
     ]
    },
    {
     "data": {
      "image/png": "[encoded data removed]",
      "text/plain": [
       "<Figure size 432x288 with 1 Axes>"
      ]
     },
     "metadata": {
      "needs_background": "light"
     },
     "output_type": "display_data"
    },
    {
     "data": {
      "image/png": "[encoded data removed]",
      "text/plain": [
       "<Figure size 432x288 with 1 Axes>"
      ]
     },
     "metadata": {
      "needs_background": "light"
     },
     "output_type": "display_data"
    }
   ],
   "source": [
    "accuracy_bs = history_bs.history['accuracy']\n",
    "val_accuracy_bs = history_bs.history['val_accuracy']\n",
    "loss_bs = history_bs.history['loss']\n",
    "val_loss_bs = history_bs.history['val_loss']\n",
    "epochs_bs = accuracy_bs\n",
    "plt.plot(epochs_bs, accuracy_bs, 'g', label='Training accuracy')\n",
    "plt.plot(epochs_bs, val_accuracy_bs, 'r', label='Validation accuracy')\n",
    "plt.title('Training and validation accuracy')\n",
    "plt.legend()\n",
    "plt.figure()\n",
    "print(\"\\n\")\n",
    "plt.plot(epochs_bs, loss_bs, 'g', label='Training loss')\n",
    "plt.plot(epochs_bs, val_loss_bs, 'r', label='Validation loss')\n",
    "plt.title('Training and validation loss')\n",
    "plt.legend()\n",
    "plt.show()"
   ]
  },
  {
   "cell_type": "code",
   "execution_count": 31,
   "metadata": {},
   "outputs": [
    {
     "name": "stdout",
     "output_type": "stream",
     "text": [
      "Test loss: 0.5528250336647034\n",
      "Test accuracy: 0.8385999798774719\n"
     ]
    }
   ],
   "source": [
    "#Model Evaluation\n",
    "score = model.evaluate(x_val, y_val, verbose=0)\n",
    "print('Test loss:', score[0])\n",
    "print('Test accuracy:', score[1])"
   ]
  },
  {
   "cell_type": "code",
   "execution_count": 32,
   "metadata": {},
   "outputs": [
    {
     "name": "stdout",
     "output_type": "stream",
     "text": [
      "raw seq: [[9, 6, 3, 63, 324, 248, 1, 5825, 6, 4865, 2, 644, 139, 63, 84, 572, 638, 2848, 1198, 1, 1012]]\n",
      "padded seq: [[   0    0    0    0    0    0    0    0    0    0    0    0    0    0\n",
      "     0    0    0    0    0    0    0    0    0    0    0    0    0    0\n",
      "     0    0    0    0    0    0    0    0    0    0    0    0    0    0\n",
      "     0    0    0    0    0    0    0    0    0    0    0    0    0    0\n",
      "     0    0    0    0    0    0    0    0    0    0    0    0    0    0\n",
      "     0    0    0    0    0    0    0    0    0    9    6    3   63  324\n",
      "   248    1 5825    6 4865    2  644  139   63   84  572  638 2848 1198\n",
      "     1 1012]]\n",
      "positivity: [[0.99691737]]\n"
     ]
    }
   ],
   "source": [
    "text = 'It is a really nice day. The weather is calm and cool. Something really great happened today! India won the cricket match!'\n",
    "seq_gen = tokenizer.texts_to_sequences([text])\n",
    "print('raw seq:',seq_gen)\n",
    "seq_gen = pad_sequences(seq_gen, maxlen=max_length)\n",
    "print('padded seq:',seq_gen)\n",
    "prediction = model.predict(seq_gen)\n",
    "print('positivity:',prediction)"
   ]
  },
  {
   "cell_type": "code",
   "execution_count": 33,
   "metadata": {},
   "outputs": [
    {
     "name": "stdout",
     "output_type": "stream",
     "text": [
      "raw seq: [[9, 6, 3, 63, 246, 248, 9, 6, 1040, 43, 47, 3, 173, 4, 75, 2, 1675, 4974, 8, 1, 701, 638]]\n",
      "padded seq: [[   0    0    0    0    0    0    0    0    0    0    0    0    0    0\n",
      "     0    0    0    0    0    0    0    0    0    0    0    0    0    0\n",
      "     0    0    0    0    0    0    0    0    0    0    0    0    0    0\n",
      "     0    0    0    0    0    0    0    0    0    0    0    0    0    0\n",
      "     0    0    0    0    0    0    0    0    0    0    0    0    0    0\n",
      "     0    0    0    0    0    0    0    0    9    6    3   63  246  248\n",
      "     9    6 1040   43   47    3  173    4   75    2 1675 4974    8    1\n",
      "   701  638]]\n",
      "positivity: [[0.70832443]]\n"
     ]
    }
   ],
   "source": [
    "text_1 = 'It is a really worst day. It is freezing cold out there. A lot of bad and criminal activities occured in the country today!!'\n",
    "seq_gen_1 = tokenizer.texts_to_sequences([text_1])\n",
    "print('raw seq:',seq_gen_1)\n",
    "seq_gen_1 = pad_sequences(seq_gen_1, maxlen=max_length)\n",
    "print('padded seq:',seq_gen_1)\n",
    "prediction_1 = model.predict(seq_gen_1)\n",
    "print('positivity:',prediction_1)"
   ]
  },
  {
   "cell_type": "code",
   "execution_count": 34,
   "metadata": {},
   "outputs": [],
   "source": [
    "#Predictions\n",
    "y_probs = model.predict(x_test)\n",
    "y_preds = y_probs.argmax(axis = 1)"
   ]
  },
  {
   "cell_type": "code",
   "execution_count": 35,
   "metadata": {},
   "outputs": [
    {
     "name": "stdout",
     "output_type": "stream",
     "text": [
      "Classification Report : \n",
      "\n",
      "              precision    recall  f1-score   support\n",
      "\n",
      "           0       0.50      1.00      0.66      2484\n",
      "           1       0.00      0.00      0.00      2516\n",
      "\n",
      "    accuracy                           0.50      5000\n",
      "   macro avg       0.25      0.50      0.33      5000\n",
      "weighted avg       0.25      0.50      0.33      5000\n",
      "\n"
     ]
    }
   ],
   "source": [
    "from sklearn.metrics import classification_report, confusion_matrix\n",
    "print(\"Classification Report : \\n\")\n",
    "print(classification_report(y_test,y_preds))"
   ]
  },
  {
   "cell_type": "code",
   "execution_count": 36,
   "metadata": {},
   "outputs": [
    {
     "name": "stdout",
     "output_type": "stream",
     "text": [
      "Confusion Matrix : \n",
      "\n",
      "[[2484    0]\n",
      " [2516    0]]\n"
     ]
    }
   ],
   "source": [
    "print(\"Confusion Matrix : \\n\")\n",
    "print(confusion_matrix(y_test,y_preds))"
   ]
  },
  {
   "cell_type": "markdown",
   "metadata": {},
   "source": [
    "**2.Dropout: Change the position and value of dropout layer**"
   ]
  },
  {
   "cell_type": "code",
   "execution_count": 37,
   "metadata": {},
   "outputs": [],
   "source": [
    "def create_model_3(dropout_rate=0.2):\n",
    "    embedding_dim = 100\n",
    "\n",
    "    model2=Sequential()\n",
    "    model2.add(Embedding(words,embedding_dim,input_length=max_length))\n",
    "    model2.add(Flatten())\n",
    "    ## Layer 1\n",
    "    model2.add(Dense(70, kernel_regularizer=l2(0.01), bias_regularizer=l2(0.01), activation = 'relu'))\n",
    "    model2.add(Dropout(dropout_rate))\n",
    "    ## Layer 2\n",
    "    model2.add(Dense(50, kernel_regularizer=l2(0.01), bias_regularizer=l2(0.01), activation = 'relu'))\n",
    "    model2.add(Dropout(dropout_rate))\n",
    "    ## Layer 3\n",
    "    model2.add(Dense(20, kernel_regularizer=l2(0.01), bias_regularizer=l2(0.01), activation = 'relu'))\n",
    "    model2.add(Dropout(dropout_rate))\n",
    "    ## Final Layer\n",
    "    model2.add(Dense(1,activation='sigmoid'))\n",
    "    \n",
    "    ##complie\n",
    "    model2.compile(loss='binary_crossentropy',optimizer='adam', metrics='accuracy')\n",
    "    \n",
    "    return model2"
   ]
  },
  {
   "cell_type": "code",
   "execution_count": 38,
   "metadata": {},
   "outputs": [],
   "source": [
    "from sklearn.model_selection import GridSearchCV\n",
    "from tensorflow.keras.wrappers.scikit_learn import KerasClassifier\n",
    "seed = 7\n",
    "np.random.seed(seed)\n",
    "\n",
    "model_init_batch_dp_CV = KerasClassifier(build_fn=create_model_3, verbose=1)\n",
    "\n",
    "dp_n=[0.2,0.4]"
   ]
  },
  {
   "cell_type": "code",
   "execution_count": 39,
   "metadata": {},
   "outputs": [
    {
     "name": "stdout",
     "output_type": "stream",
     "text": [
      "313/313 [==============================] - 30s 96ms/step - loss: 0.9422 - accuracy: 0.5009 - val_loss: 0.7007 - val_accuracy: 0.4890\n",
      "157/157 [==============================] - 2s 13ms/step - loss: 0.7006 - accuracy: 0.4968\n",
      "313/313 [==============================] - 32s 101ms/step - loss: 0.9426 - accuracy: 0.5820 - val_loss: 0.7001 - val_accuracy: 0.7870\n",
      "157/157 [==============================] - 2s 12ms/step - loss: 0.7085 - accuracy: 0.7860\n",
      "313/313 [==============================] - 29s 93ms/step - loss: 0.9398 - accuracy: 0.5032 - val_loss: 0.7003 - val_accuracy: 0.5110\n",
      "157/157 [==============================] - 2s 12ms/step - loss: 0.7007 - accuracy: 0.4920\n",
      "313/313 [==============================] - 24s 77ms/step - loss: 0.9735 - accuracy: 0.5100 - val_loss: 0.7020 - val_accuracy: 0.5110\n",
      "157/157 [==============================] - 2s 16ms/step - loss: 0.7021 - accuracy: 0.5032\n",
      "313/313 [==============================] - 26s 84ms/step - loss: 0.9539 - accuracy: 0.4995 - val_loss: 0.7012 - val_accuracy: 0.5110\n",
      "157/157 [==============================] - 2s 13ms/step - loss: 0.7013 - accuracy: 0.5012\n",
      "313/313 [==============================] - 30s 95ms/step - loss: 0.9602 - accuracy: 0.5079 - val_loss: 0.7017 - val_accuracy: 0.4990\n",
      "157/157 [==============================] - 2s 13ms/step - loss: 0.7016 - accuracy: 0.5168\n",
      "469/469 [==============================] - 43s 92ms/step - loss: 0.8635 - accuracy: 0.5181 - val_loss: 0.6936 - val_accuracy: 0.5110\n"
     ]
    }
   ],
   "source": [
    "param_grid_1 = dict(dropout_rate=dp_n)\n",
    "grid_1 = GridSearchCV(estimator=model_init_batch_dp_CV, param_grid=param_grid_1, cv=3)\n",
    "grid_result = grid_1.fit(x_train, y_train, validation_data=(x_val,y_val))"
   ]
  },
  {
   "cell_type": "code",
   "execution_count": 40,
   "metadata": {},
   "outputs": [
    {
     "name": "stdout",
     "output_type": "stream",
     "text": [
      "Best Accuracy for 0.5916000107924143 using {'dropout_rate': 0.2}\n",
      " mean=0.5916, std=0.1375 using {'dropout_rate': 0.2}\n",
      " mean=0.5071, std=0.006931 using {'dropout_rate': 0.4}\n"
     ]
    }
   ],
   "source": [
    "print(f'Best Accuracy for {grid_result.best_score_} using {grid_result.best_params_}')\n",
    "means = grid_result.cv_results_['mean_test_score']\n",
    "stds = grid_result.cv_results_['std_test_score']\n",
    "params = grid_result.cv_results_['params']\n",
    "for mean, stdev, param in zip(means, stds, params):\n",
    "    print(f' mean={mean:.4}, std={stdev:.4} using {param}')"
   ]
  },
  {
   "cell_type": "markdown",
   "metadata": {},
   "source": [
    "**Model 2 - Change the position and value of dropout layer**"
   ]
  },
  {
   "cell_type": "code",
   "execution_count": 41,
   "metadata": {},
   "outputs": [],
   "source": [
    "#Model Building \n",
    "embedding_dim = 100\n",
    "\n",
    "model=Sequential()\n",
    "model.add(Embedding(words,embedding_dim,input_length=max_length))\n",
    "model.add(Flatten())\n",
    "## Layer 1\n",
    "model.add(Dense(70, activation = 'relu'))\n",
    "model.add(Dropout(0.2))\n",
    "## Layer 2\n",
    "model.add(Dense(50, activation = 'relu'))\n",
    "model.add(Dropout(0.2))\n",
    "## Layer 3\n",
    "model.add(Dense(20, activation = 'relu'))\n",
    "model.add(Dropout(0.2))\n",
    "## Final Layer\n",
    "model.add(Dense(1,activation='sigmoid'))"
   ]
  },
  {
   "cell_type": "code",
   "execution_count": 42,
   "metadata": {},
   "outputs": [],
   "source": [
    "#Model Compilation \n",
    "model.compile(loss='binary_crossentropy',optimizer='adam', metrics='accuracy')"
   ]
  },
  {
   "cell_type": "code",
   "execution_count": 43,
   "metadata": {},
   "outputs": [
    {
     "name": "stdout",
     "output_type": "stream",
     "text": [
      "Epoch 1/25\n",
      "118/118 [==============================] - 12s 100ms/step - loss: 0.5912 - accuracy: 0.6617 - val_loss: 0.3856 - val_accuracy: 0.8314\n",
      "Epoch 2/25\n",
      "118/118 [==============================] - 12s 98ms/step - loss: 0.2247 - accuracy: 0.9159 - val_loss: 0.4299 - val_accuracy: 0.8256\n",
      "Epoch 3/25\n",
      "118/118 [==============================] - 12s 102ms/step - loss: 0.0318 - accuracy: 0.9909 - val_loss: 0.7079 - val_accuracy: 0.8282\n",
      "Epoch 4/25\n",
      "118/118 [==============================] - 11s 97ms/step - loss: 0.0029 - accuracy: 0.9997 - val_loss: 0.9691 - val_accuracy: 0.8262\n",
      "Epoch 5/25\n",
      "118/118 [==============================] - 10s 84ms/step - loss: 0.0016 - accuracy: 0.9997 - val_loss: 1.0925 - val_accuracy: 0.8218\n",
      "Epoch 6/25\n",
      "118/118 [==============================] - 11s 90ms/step - loss: 0.0093 - accuracy: 0.9971 - val_loss: 1.0463 - val_accuracy: 0.8088\n",
      "Epoch 7/25\n",
      "118/118 [==============================] - 11s 96ms/step - loss: 0.0140 - accuracy: 0.9957 - val_loss: 0.9895 - val_accuracy: 0.8168\n",
      "Epoch 8/25\n",
      "118/118 [==============================] - 11s 95ms/step - loss: 0.0099 - accuracy: 0.9975 - val_loss: 1.0818 - val_accuracy: 0.8196\n",
      "Epoch 9/25\n",
      "118/118 [==============================] - 11s 91ms/step - loss: 0.0040 - accuracy: 0.9989 - val_loss: 1.2851 - val_accuracy: 0.8154\n",
      "Epoch 10/25\n",
      "118/118 [==============================] - 12s 102ms/step - loss: 0.0049 - accuracy: 0.9985 - val_loss: 1.3407 - val_accuracy: 0.8126\n",
      "Epoch 11/25\n",
      "118/118 [==============================] - 13s 106ms/step - loss: 0.0016 - accuracy: 0.9995 - val_loss: 1.4368 - val_accuracy: 0.8182\n",
      "Epoch 12/25\n",
      "118/118 [==============================] - 12s 99ms/step - loss: 8.8229e-04 - accuracy: 0.9999 - val_loss: 1.5656 - val_accuracy: 0.8116\n",
      "Epoch 13/25\n",
      "118/118 [==============================] - 10s 82ms/step - loss: 1.8039e-04 - accuracy: 1.0000 - val_loss: 1.6351 - val_accuracy: 0.8122\n",
      "Epoch 14/25\n",
      "118/118 [==============================] - 11s 97ms/step - loss: 2.1428e-04 - accuracy: 0.9999 - val_loss: 1.6910 - val_accuracy: 0.8116\n",
      "Epoch 15/25\n",
      "118/118 [==============================] - 10s 87ms/step - loss: 5.9689e-05 - accuracy: 1.0000 - val_loss: 1.7313 - val_accuracy: 0.8130\n",
      "Epoch 16/25\n",
      "118/118 [==============================] - 11s 97ms/step - loss: 5.6599e-05 - accuracy: 1.0000 - val_loss: 1.7710 - val_accuracy: 0.8140\n",
      "Epoch 17/25\n",
      "118/118 [==============================] - 11s 96ms/step - loss: 5.7575e-05 - accuracy: 1.0000 - val_loss: 1.8103 - val_accuracy: 0.8128\n",
      "Epoch 18/25\n",
      "118/118 [==============================] - 11s 96ms/step - loss: 4.2968e-05 - accuracy: 1.0000 - val_loss: 1.8435 - val_accuracy: 0.8134\n",
      "Epoch 19/25\n",
      "118/118 [==============================] - 12s 105ms/step - loss: 2.8863e-05 - accuracy: 1.0000 - val_loss: 1.8718 - val_accuracy: 0.8134\n",
      "Epoch 20/25\n",
      "118/118 [==============================] - 11s 92ms/step - loss: 2.7447e-05 - accuracy: 1.0000 - val_loss: 1.9008 - val_accuracy: 0.8140\n",
      "Epoch 21/25\n",
      "118/118 [==============================] - 11s 91ms/step - loss: 2.9714e-05 - accuracy: 1.0000 - val_loss: 1.9312 - val_accuracy: 0.8136\n",
      "Epoch 22/25\n",
      "118/118 [==============================] - 12s 105ms/step - loss: 1.9380e-05 - accuracy: 1.0000 - val_loss: 1.9558 - val_accuracy: 0.8140\n",
      "Epoch 23/25\n",
      "118/118 [==============================] - 12s 103ms/step - loss: 1.5469e-05 - accuracy: 1.0000 - val_loss: 1.9804 - val_accuracy: 0.8146\n",
      "Epoch 24/25\n",
      "118/118 [==============================] - 11s 96ms/step - loss: 2.8166e-05 - accuracy: 1.0000 - val_loss: 2.0155 - val_accuracy: 0.8144\n",
      "Epoch 25/25\n",
      "118/118 [==============================] - 11s 95ms/step - loss: 2.2762e-05 - accuracy: 1.0000 - val_loss: 2.0460 - val_accuracy: 0.8144\n"
     ]
    }
   ],
   "source": [
    "#Model Training \n",
    "history_np = model.fit(x=x_train,y=y_train,epochs=25,batch_size=128,validation_data=(x_val,y_val))"
   ]
  },
  {
   "cell_type": "code",
   "execution_count": 44,
   "metadata": {},
   "outputs": [
    {
     "name": "stdout",
     "output_type": "stream",
     "text": [
      "\n",
      "\n"
     ]
    },
    {
     "data": {
      "image/png": "[encoded data removed]",
      "text/plain": [
       "<Figure size 432x288 with 1 Axes>"
      ]
     },
     "metadata": {
      "needs_background": "light"
     },
     "output_type": "display_data"
    },
    {
     "data": {
      "image/png": "[encoded data removed]",
      "text/plain": [
       "<Figure size 432x288 with 1 Axes>"
      ]
     },
     "metadata": {
      "needs_background": "light"
     },
     "output_type": "display_data"
    }
   ],
   "source": [
    "accuracy_np = history_np.history['accuracy']\n",
    "val_accuracy_np = history_np.history['val_accuracy']\n",
    "loss_np = history_np.history['loss']\n",
    "val_loss_np = history_np.history['val_loss']\n",
    "epochs_np = range(len(accuracy_np))\n",
    "plt.plot(epochs_np, accuracy_np, 'g', label='Training accuracy')\n",
    "plt.plot(epochs_np, val_accuracy_np, 'r', label='Validation accuracy')\n",
    "plt.title('Training and validation accuracy')\n",
    "plt.legend()\n",
    "plt.figure()\n",
    "print(\"\\n\")\n",
    "plt.plot(epochs_np, loss_wr, 'g', label='Training loss')\n",
    "plt.plot(epochs_np, val_loss_np, 'r', label='Validation loss')\n",
    "plt.title('Training and validation loss')\n",
    "plt.legend()\n",
    "plt.show()"
   ]
  },
  {
   "cell_type": "code",
   "execution_count": 45,
   "metadata": {},
   "outputs": [
    {
     "name": "stdout",
     "output_type": "stream",
     "text": [
      "Test loss: 2.046025514602661\n",
      "Test accuracy: 0.8144000172615051\n"
     ]
    }
   ],
   "source": [
    "#Model Evaluation \n",
    "score = model.evaluate(x_val, y_val, verbose=0)\n",
    "print('Test loss:', score[0])\n",
    "print('Test accuracy:', score[1])"
   ]
  },
  {
   "cell_type": "code",
   "execution_count": 46,
   "metadata": {},
   "outputs": [
    {
     "name": "stdout",
     "output_type": "stream",
     "text": [
      "raw seq: [[9, 6, 3, 63, 324, 248, 1, 5825, 6, 4865, 2, 644, 139, 63, 84, 572, 638, 2848, 1198, 1, 1012]]\n",
      "padded seq: [[   0    0    0    0    0    0    0    0    0    0    0    0    0    0\n",
      "     0    0    0    0    0    0    0    0    0    0    0    0    0    0\n",
      "     0    0    0    0    0    0    0    0    0    0    0    0    0    0\n",
      "     0    0    0    0    0    0    0    0    0    0    0    0    0    0\n",
      "     0    0    0    0    0    0    0    0    0    0    0    0    0    0\n",
      "     0    0    0    0    0    0    0    0    0    9    6    3   63  324\n",
      "   248    1 5825    6 4865    2  644  139   63   84  572  638 2848 1198\n",
      "     1 1012]]\n",
      "positivity: [[1.]]\n"
     ]
    }
   ],
   "source": [
    "text = 'It is a really nice day. The weather is calm and cool. Something really great happened today! India won the cricket match!'\n",
    "seq_gen = tokenizer.texts_to_sequences([text])\n",
    "print('raw seq:',seq_gen)\n",
    "seq_gen = pad_sequences(seq_gen, maxlen=max_length)\n",
    "print('padded seq:',seq_gen)\n",
    "prediction = model.predict(seq_gen)\n",
    "print('positivity:',prediction)"
   ]
  },
  {
   "cell_type": "code",
   "execution_count": 47,
   "metadata": {},
   "outputs": [
    {
     "name": "stdout",
     "output_type": "stream",
     "text": [
      "raw seq: [[9, 6, 3, 63, 246, 248, 9, 6, 1040, 43, 47, 3, 173, 4, 75, 2, 1675, 4974, 8, 1, 701, 638]]\n",
      "padded seq: [[   0    0    0    0    0    0    0    0    0    0    0    0    0    0\n",
      "     0    0    0    0    0    0    0    0    0    0    0    0    0    0\n",
      "     0    0    0    0    0    0    0    0    0    0    0    0    0    0\n",
      "     0    0    0    0    0    0    0    0    0    0    0    0    0    0\n",
      "     0    0    0    0    0    0    0    0    0    0    0    0    0    0\n",
      "     0    0    0    0    0    0    0    0    9    6    3   63  246  248\n",
      "     9    6 1040   43   47    3  173    4   75    2 1675 4974    8    1\n",
      "   701  638]]\n",
      "positivity: [[0.98863184]]\n"
     ]
    }
   ],
   "source": [
    "text_1 = 'It is a really worst day. It is freezing cold out there. A lot of bad and criminal activities occured in the country today!!'\n",
    "seq_gen_1 = tokenizer.texts_to_sequences([text_1])\n",
    "print('raw seq:',seq_gen_1)\n",
    "seq_gen_1 = pad_sequences(seq_gen_1, maxlen=max_length)\n",
    "print('padded seq:',seq_gen_1)\n",
    "prediction_1 = model.predict(seq_gen_1)\n",
    "print('positivity:',prediction_1)"
   ]
  },
  {
   "cell_type": "code",
   "execution_count": 48,
   "metadata": {},
   "outputs": [],
   "source": [
    "#Predictions\n",
    "y_probs = model.predict(x_test)\n",
    "y_preds = y_probs.argmax(axis = 1)"
   ]
  },
  {
   "cell_type": "code",
   "execution_count": 49,
   "metadata": {},
   "outputs": [
    {
     "name": "stdout",
     "output_type": "stream",
     "text": [
      "Classification Report : \n",
      "\n",
      "              precision    recall  f1-score   support\n",
      "\n",
      "           0       0.50      1.00      0.66      2484\n",
      "           1       0.00      0.00      0.00      2516\n",
      "\n",
      "    accuracy                           0.50      5000\n",
      "   macro avg       0.25      0.50      0.33      5000\n",
      "weighted avg       0.25      0.50      0.33      5000\n",
      "\n"
     ]
    }
   ],
   "source": [
    "from sklearn.metrics import classification_report, confusion_matrix\n",
    "print(\"Classification Report : \\n\")\n",
    "print(classification_report(y_test,y_preds))"
   ]
  },
  {
   "cell_type": "code",
   "execution_count": 50,
   "metadata": {},
   "outputs": [
    {
     "name": "stdout",
     "output_type": "stream",
     "text": [
      "Confusion Matrix : \n",
      "\n",
      "[[2484    0]\n",
      " [2516    0]]\n"
     ]
    }
   ],
   "source": [
    "print(\"Confusion Matrix : \\n\")\n",
    "print(confusion_matrix(y_test,y_preds))"
   ]
  }
 ],
 "metadata": {
  "kernelspec": {
   "display_name": "Python 3",
   "language": "python",
   "name": "python3"
  },
  "language_info": {
   "codemirror_mode": {
    "name": "ipython",
    "version": 3
   },
   "file_extension": ".py",
   "mimetype": "text/x-python",
   "name": "python",
   "nbconvert_exporter": "python",
   "pygments_lexer": "ipython3",
   "version": "3.7.6"
  }
 },
 "nbformat": 4,
 "nbformat_minor": 4
}
