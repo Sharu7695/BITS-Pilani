{
 "cells": [
  {
   "cell_type": "markdown",
   "metadata": {},
   "source": [
    "### Machine Learning - Assignment 1 - Group 090"
   ]
  },
  {
   "cell_type": "markdown",
   "metadata": {},
   "source": [
    "**Question 1 :**"
   ]
  },
  {
   "cell_type": "code",
   "execution_count": 1,
   "metadata": {},
   "outputs": [],
   "source": [
    "#Loading the libraries\n",
    "import pandas as pd\n",
    "import numpy as np\n",
    "import matplotlib.pyplot as plt\n",
    "import seaborn as sns\n",
    "%matplotlib inline"
   ]
  },
  {
   "cell_type": "markdown",
   "metadata": {},
   "source": [
    "**1 . Importing the dataset**"
   ]
  },
  {
   "cell_type": "code",
   "execution_count": 2,
   "metadata": {},
   "outputs": [],
   "source": [
    "#importing the datasets\n",
    "df = pd.read_excel(r\"F:\\M.tech\\Study Materials\\2nd Sem Materials\\Machine Learning\\Slides\\Assignment - 1\\Set 3\\Q1\\Orginal_dataset.xlsx\")"
   ]
  },
  {
   "cell_type": "code",
   "execution_count": 3,
   "metadata": {},
   "outputs": [
    {
     "data": {
      "text/html": [
       "<div>\n",
       "<style scoped>\n",
       "    .dataframe tbody tr th:only-of-type {\n",
       "        vertical-align: middle;\n",
       "    }\n",
       "\n",
       "    .dataframe tbody tr th {\n",
       "        vertical-align: top;\n",
       "    }\n",
       "\n",
       "    .dataframe thead th {\n",
       "        text-align: right;\n",
       "    }\n",
       "</style>\n",
       "<table border=\"1\" class=\"dataframe\">\n",
       "  <thead>\n",
       "    <tr style=\"text-align: right;\">\n",
       "      <th></th>\n",
       "      <th>REMISS</th>\n",
       "      <th>CELL</th>\n",
       "      <th>SMEAR</th>\n",
       "      <th>INFIL</th>\n",
       "      <th>LI</th>\n",
       "      <th>BLAST</th>\n",
       "      <th>TEMP</th>\n",
       "    </tr>\n",
       "  </thead>\n",
       "  <tbody>\n",
       "    <tr>\n",
       "      <th>0</th>\n",
       "      <td>1</td>\n",
       "      <td>0.8</td>\n",
       "      <td>0.83</td>\n",
       "      <td>0.66</td>\n",
       "      <td>1.9</td>\n",
       "      <td>1.10</td>\n",
       "      <td>1.00</td>\n",
       "    </tr>\n",
       "    <tr>\n",
       "      <th>1</th>\n",
       "      <td>1</td>\n",
       "      <td>0.9</td>\n",
       "      <td>0.36</td>\n",
       "      <td>0.32</td>\n",
       "      <td>1.4</td>\n",
       "      <td>0.74</td>\n",
       "      <td>0.99</td>\n",
       "    </tr>\n",
       "    <tr>\n",
       "      <th>2</th>\n",
       "      <td>0</td>\n",
       "      <td>0.8</td>\n",
       "      <td>0.88</td>\n",
       "      <td>0.70</td>\n",
       "      <td>0.8</td>\n",
       "      <td>0.18</td>\n",
       "      <td>0.98</td>\n",
       "    </tr>\n",
       "    <tr>\n",
       "      <th>3</th>\n",
       "      <td>0</td>\n",
       "      <td>1.0</td>\n",
       "      <td>0.87</td>\n",
       "      <td>0.87</td>\n",
       "      <td>0.7</td>\n",
       "      <td>1.05</td>\n",
       "      <td>0.99</td>\n",
       "    </tr>\n",
       "    <tr>\n",
       "      <th>4</th>\n",
       "      <td>1</td>\n",
       "      <td>0.9</td>\n",
       "      <td>0.75</td>\n",
       "      <td>0.68</td>\n",
       "      <td>1.3</td>\n",
       "      <td>0.52</td>\n",
       "      <td>0.98</td>\n",
       "    </tr>\n",
       "  </tbody>\n",
       "</table>\n",
       "</div>"
      ],
      "text/plain": [
       "   REMISS  CELL  SMEAR  INFIL   LI  BLAST  TEMP\n",
       "0       1   0.8   0.83   0.66  1.9   1.10  1.00\n",
       "1       1   0.9   0.36   0.32  1.4   0.74  0.99\n",
       "2       0   0.8   0.88   0.70  0.8   0.18  0.98\n",
       "3       0   1.0   0.87   0.87  0.7   1.05  0.99\n",
       "4       1   0.9   0.75   0.68  1.3   0.52  0.98"
      ]
     },
     "execution_count": 3,
     "metadata": {},
     "output_type": "execute_result"
    }
   ],
   "source": [
    "#viewing the head of the dataframe\n",
    "df.head()"
   ]
  },
  {
   "cell_type": "code",
   "execution_count": 4,
   "metadata": {},
   "outputs": [
    {
     "data": {
      "text/html": [
       "<div>\n",
       "<style scoped>\n",
       "    .dataframe tbody tr th:only-of-type {\n",
       "        vertical-align: middle;\n",
       "    }\n",
       "\n",
       "    .dataframe tbody tr th {\n",
       "        vertical-align: top;\n",
       "    }\n",
       "\n",
       "    .dataframe thead th {\n",
       "        text-align: right;\n",
       "    }\n",
       "</style>\n",
       "<table border=\"1\" class=\"dataframe\">\n",
       "  <thead>\n",
       "    <tr style=\"text-align: right;\">\n",
       "      <th></th>\n",
       "      <th>REMISS</th>\n",
       "      <th>CELL</th>\n",
       "      <th>SMEAR</th>\n",
       "      <th>INFIL</th>\n",
       "      <th>LI</th>\n",
       "      <th>BLAST</th>\n",
       "      <th>TEMP</th>\n",
       "    </tr>\n",
       "  </thead>\n",
       "  <tbody>\n",
       "    <tr>\n",
       "      <th>count</th>\n",
       "      <td>27.000000</td>\n",
       "      <td>27.000000</td>\n",
       "      <td>27.000000</td>\n",
       "      <td>27.000000</td>\n",
       "      <td>27.000000</td>\n",
       "      <td>27.000000</td>\n",
       "      <td>27.000000</td>\n",
       "    </tr>\n",
       "    <tr>\n",
       "      <th>mean</th>\n",
       "      <td>0.333333</td>\n",
       "      <td>0.881481</td>\n",
       "      <td>0.635185</td>\n",
       "      <td>0.570741</td>\n",
       "      <td>1.003704</td>\n",
       "      <td>0.688519</td>\n",
       "      <td>0.997407</td>\n",
       "    </tr>\n",
       "    <tr>\n",
       "      <th>std</th>\n",
       "      <td>0.480384</td>\n",
       "      <td>0.186645</td>\n",
       "      <td>0.214052</td>\n",
       "      <td>0.237567</td>\n",
       "      <td>0.467795</td>\n",
       "      <td>0.534960</td>\n",
       "      <td>0.014830</td>\n",
       "    </tr>\n",
       "    <tr>\n",
       "      <th>min</th>\n",
       "      <td>0.000000</td>\n",
       "      <td>0.200000</td>\n",
       "      <td>0.320000</td>\n",
       "      <td>0.080000</td>\n",
       "      <td>0.400000</td>\n",
       "      <td>0.000000</td>\n",
       "      <td>0.980000</td>\n",
       "    </tr>\n",
       "    <tr>\n",
       "      <th>25%</th>\n",
       "      <td>0.000000</td>\n",
       "      <td>0.825000</td>\n",
       "      <td>0.430000</td>\n",
       "      <td>0.335000</td>\n",
       "      <td>0.650000</td>\n",
       "      <td>0.230000</td>\n",
       "      <td>0.990000</td>\n",
       "    </tr>\n",
       "    <tr>\n",
       "      <th>50%</th>\n",
       "      <td>0.000000</td>\n",
       "      <td>0.950000</td>\n",
       "      <td>0.650000</td>\n",
       "      <td>0.630000</td>\n",
       "      <td>0.900000</td>\n",
       "      <td>0.520000</td>\n",
       "      <td>0.990000</td>\n",
       "    </tr>\n",
       "    <tr>\n",
       "      <th>75%</th>\n",
       "      <td>1.000000</td>\n",
       "      <td>1.000000</td>\n",
       "      <td>0.835000</td>\n",
       "      <td>0.740000</td>\n",
       "      <td>1.250000</td>\n",
       "      <td>1.060000</td>\n",
       "      <td>1.005000</td>\n",
       "    </tr>\n",
       "    <tr>\n",
       "      <th>max</th>\n",
       "      <td>1.000000</td>\n",
       "      <td>1.000000</td>\n",
       "      <td>0.970000</td>\n",
       "      <td>0.920000</td>\n",
       "      <td>1.900000</td>\n",
       "      <td>2.060000</td>\n",
       "      <td>1.040000</td>\n",
       "    </tr>\n",
       "  </tbody>\n",
       "</table>\n",
       "</div>"
      ],
      "text/plain": [
       "          REMISS       CELL      SMEAR      INFIL         LI      BLAST  \\\n",
       "count  27.000000  27.000000  27.000000  27.000000  27.000000  27.000000   \n",
       "mean    0.333333   0.881481   0.635185   0.570741   1.003704   0.688519   \n",
       "std     0.480384   0.186645   0.214052   0.237567   0.467795   0.534960   \n",
       "min     0.000000   0.200000   0.320000   0.080000   0.400000   0.000000   \n",
       "25%     0.000000   0.825000   0.430000   0.335000   0.650000   0.230000   \n",
       "50%     0.000000   0.950000   0.650000   0.630000   0.900000   0.520000   \n",
       "75%     1.000000   1.000000   0.835000   0.740000   1.250000   1.060000   \n",
       "max     1.000000   1.000000   0.970000   0.920000   1.900000   2.060000   \n",
       "\n",
       "            TEMP  \n",
       "count  27.000000  \n",
       "mean    0.997407  \n",
       "std     0.014830  \n",
       "min     0.980000  \n",
       "25%     0.990000  \n",
       "50%     0.990000  \n",
       "75%     1.005000  \n",
       "max     1.040000  "
      ]
     },
     "execution_count": 4,
     "metadata": {},
     "output_type": "execute_result"
    }
   ],
   "source": [
    "#Viewing the summary of the data\n",
    "df.describe()"
   ]
  },
  {
   "cell_type": "code",
   "execution_count": 5,
   "metadata": {},
   "outputs": [
    {
     "data": {
      "text/plain": [
       "REMISS    0\n",
       "CELL      0\n",
       "SMEAR     0\n",
       "INFIL     0\n",
       "LI        0\n",
       "BLAST     0\n",
       "TEMP      0\n",
       "dtype: int64"
      ]
     },
     "execution_count": 5,
     "metadata": {},
     "output_type": "execute_result"
    }
   ],
   "source": [
    "#Checking for any null values\n",
    "df.isna().sum()"
   ]
  },
  {
   "cell_type": "markdown",
   "metadata": {},
   "source": [
    "**2. Extract X as all columns except the first column and Y as first column**"
   ]
  },
  {
   "cell_type": "code",
   "execution_count": 6,
   "metadata": {},
   "outputs": [],
   "source": [
    "#spiltting the dataset into training and testing datasets\n",
    "from sklearn.model_selection import KFold\n",
    "\n",
    "# Extracting X as all columns except the first column and Y as first column.\n",
    "X = df.drop([\"REMISS\"], axis = 1)\n",
    "y = df[\"REMISS\"]"
   ]
  },
  {
   "cell_type": "markdown",
   "metadata": {},
   "source": [
    "**3. Visualise the dataset**"
   ]
  },
  {
   "cell_type": "code",
   "execution_count": 7,
   "metadata": {},
   "outputs": [
    {
     "data": {
      "text/plain": [
       "<seaborn.axisgrid.PairGrid at 0x2810b51f8c8>"
      ]
     },
     "execution_count": 7,
     "metadata": {},
     "output_type": "execute_result"
    },
    {
     "data": {
      "image/png": "[encoded data removed]",
      "text/plain": [
       "<Figure size 1260x1260 with 56 Axes>"
      ]
     },
     "metadata": {
      "needs_background": "light"
     },
     "output_type": "display_data"
    }
   ],
   "source": [
    "#viweing the relationshp between the variables\n",
    "sns.pairplot(df,palette='viridis')"
   ]
  },
  {
   "cell_type": "code",
   "execution_count": 8,
   "metadata": {},
   "outputs": [
    {
     "data": {
      "text/html": [
       "<div>\n",
       "<style scoped>\n",
       "    .dataframe tbody tr th:only-of-type {\n",
       "        vertical-align: middle;\n",
       "    }\n",
       "\n",
       "    .dataframe tbody tr th {\n",
       "        vertical-align: top;\n",
       "    }\n",
       "\n",
       "    .dataframe thead th {\n",
       "        text-align: right;\n",
       "    }\n",
       "</style>\n",
       "<table border=\"1\" class=\"dataframe\">\n",
       "  <thead>\n",
       "    <tr style=\"text-align: right;\">\n",
       "      <th></th>\n",
       "      <th>CELL</th>\n",
       "      <th>SMEAR</th>\n",
       "      <th>INFIL</th>\n",
       "      <th>LI</th>\n",
       "      <th>BLAST</th>\n",
       "      <th>TEMP</th>\n",
       "    </tr>\n",
       "  </thead>\n",
       "  <tbody>\n",
       "    <tr>\n",
       "      <th>0</th>\n",
       "      <td>0.80</td>\n",
       "      <td>0.83</td>\n",
       "      <td>0.66</td>\n",
       "      <td>1.9</td>\n",
       "      <td>1.10</td>\n",
       "      <td>1.00</td>\n",
       "    </tr>\n",
       "    <tr>\n",
       "      <th>1</th>\n",
       "      <td>0.90</td>\n",
       "      <td>0.36</td>\n",
       "      <td>0.32</td>\n",
       "      <td>1.4</td>\n",
       "      <td>0.74</td>\n",
       "      <td>0.99</td>\n",
       "    </tr>\n",
       "    <tr>\n",
       "      <th>2</th>\n",
       "      <td>0.80</td>\n",
       "      <td>0.88</td>\n",
       "      <td>0.70</td>\n",
       "      <td>0.8</td>\n",
       "      <td>0.18</td>\n",
       "      <td>0.98</td>\n",
       "    </tr>\n",
       "    <tr>\n",
       "      <th>3</th>\n",
       "      <td>1.00</td>\n",
       "      <td>0.87</td>\n",
       "      <td>0.87</td>\n",
       "      <td>0.7</td>\n",
       "      <td>1.05</td>\n",
       "      <td>0.99</td>\n",
       "    </tr>\n",
       "    <tr>\n",
       "      <th>4</th>\n",
       "      <td>0.90</td>\n",
       "      <td>0.75</td>\n",
       "      <td>0.68</td>\n",
       "      <td>1.3</td>\n",
       "      <td>0.52</td>\n",
       "      <td>0.98</td>\n",
       "    </tr>\n",
       "    <tr>\n",
       "      <th>5</th>\n",
       "      <td>1.00</td>\n",
       "      <td>0.65</td>\n",
       "      <td>0.65</td>\n",
       "      <td>0.6</td>\n",
       "      <td>0.52</td>\n",
       "      <td>0.98</td>\n",
       "    </tr>\n",
       "    <tr>\n",
       "      <th>6</th>\n",
       "      <td>0.95</td>\n",
       "      <td>0.97</td>\n",
       "      <td>0.92</td>\n",
       "      <td>1.0</td>\n",
       "      <td>1.23</td>\n",
       "      <td>0.99</td>\n",
       "    </tr>\n",
       "    <tr>\n",
       "      <th>7</th>\n",
       "      <td>0.95</td>\n",
       "      <td>0.87</td>\n",
       "      <td>0.83</td>\n",
       "      <td>1.9</td>\n",
       "      <td>1.35</td>\n",
       "      <td>1.02</td>\n",
       "    </tr>\n",
       "    <tr>\n",
       "      <th>8</th>\n",
       "      <td>1.00</td>\n",
       "      <td>0.45</td>\n",
       "      <td>0.45</td>\n",
       "      <td>0.8</td>\n",
       "      <td>0.32</td>\n",
       "      <td>1.00</td>\n",
       "    </tr>\n",
       "    <tr>\n",
       "      <th>9</th>\n",
       "      <td>0.95</td>\n",
       "      <td>0.36</td>\n",
       "      <td>0.34</td>\n",
       "      <td>0.5</td>\n",
       "      <td>0.00</td>\n",
       "      <td>1.04</td>\n",
       "    </tr>\n",
       "    <tr>\n",
       "      <th>10</th>\n",
       "      <td>0.85</td>\n",
       "      <td>0.39</td>\n",
       "      <td>0.33</td>\n",
       "      <td>0.7</td>\n",
       "      <td>0.28</td>\n",
       "      <td>0.99</td>\n",
       "    </tr>\n",
       "    <tr>\n",
       "      <th>11</th>\n",
       "      <td>0.70</td>\n",
       "      <td>0.76</td>\n",
       "      <td>0.53</td>\n",
       "      <td>1.2</td>\n",
       "      <td>0.15</td>\n",
       "      <td>0.98</td>\n",
       "    </tr>\n",
       "    <tr>\n",
       "      <th>12</th>\n",
       "      <td>0.80</td>\n",
       "      <td>0.46</td>\n",
       "      <td>0.37</td>\n",
       "      <td>0.4</td>\n",
       "      <td>0.38</td>\n",
       "      <td>1.01</td>\n",
       "    </tr>\n",
       "    <tr>\n",
       "      <th>13</th>\n",
       "      <td>0.20</td>\n",
       "      <td>0.39</td>\n",
       "      <td>0.08</td>\n",
       "      <td>0.8</td>\n",
       "      <td>0.11</td>\n",
       "      <td>0.99</td>\n",
       "    </tr>\n",
       "    <tr>\n",
       "      <th>14</th>\n",
       "      <td>1.00</td>\n",
       "      <td>0.90</td>\n",
       "      <td>0.90</td>\n",
       "      <td>1.1</td>\n",
       "      <td>1.04</td>\n",
       "      <td>0.99</td>\n",
       "    </tr>\n",
       "    <tr>\n",
       "      <th>15</th>\n",
       "      <td>1.00</td>\n",
       "      <td>0.84</td>\n",
       "      <td>0.84</td>\n",
       "      <td>1.9</td>\n",
       "      <td>2.06</td>\n",
       "      <td>1.02</td>\n",
       "    </tr>\n",
       "    <tr>\n",
       "      <th>16</th>\n",
       "      <td>0.65</td>\n",
       "      <td>0.42</td>\n",
       "      <td>0.27</td>\n",
       "      <td>0.5</td>\n",
       "      <td>0.11</td>\n",
       "      <td>1.01</td>\n",
       "    </tr>\n",
       "    <tr>\n",
       "      <th>17</th>\n",
       "      <td>1.00</td>\n",
       "      <td>0.75</td>\n",
       "      <td>0.75</td>\n",
       "      <td>1.0</td>\n",
       "      <td>1.32</td>\n",
       "      <td>1.00</td>\n",
       "    </tr>\n",
       "    <tr>\n",
       "      <th>18</th>\n",
       "      <td>0.50</td>\n",
       "      <td>0.44</td>\n",
       "      <td>0.22</td>\n",
       "      <td>0.6</td>\n",
       "      <td>0.11</td>\n",
       "      <td>0.99</td>\n",
       "    </tr>\n",
       "    <tr>\n",
       "      <th>19</th>\n",
       "      <td>1.00</td>\n",
       "      <td>0.63</td>\n",
       "      <td>0.63</td>\n",
       "      <td>1.1</td>\n",
       "      <td>1.07</td>\n",
       "      <td>0.99</td>\n",
       "    </tr>\n",
       "    <tr>\n",
       "      <th>20</th>\n",
       "      <td>1.00</td>\n",
       "      <td>0.33</td>\n",
       "      <td>0.33</td>\n",
       "      <td>0.4</td>\n",
       "      <td>0.18</td>\n",
       "      <td>1.01</td>\n",
       "    </tr>\n",
       "    <tr>\n",
       "      <th>21</th>\n",
       "      <td>0.90</td>\n",
       "      <td>0.93</td>\n",
       "      <td>0.84</td>\n",
       "      <td>0.6</td>\n",
       "      <td>1.59</td>\n",
       "      <td>1.02</td>\n",
       "    </tr>\n",
       "    <tr>\n",
       "      <th>22</th>\n",
       "      <td>1.00</td>\n",
       "      <td>0.58</td>\n",
       "      <td>0.58</td>\n",
       "      <td>1.0</td>\n",
       "      <td>0.53</td>\n",
       "      <td>1.00</td>\n",
       "    </tr>\n",
       "    <tr>\n",
       "      <th>23</th>\n",
       "      <td>0.95</td>\n",
       "      <td>0.32</td>\n",
       "      <td>0.30</td>\n",
       "      <td>1.6</td>\n",
       "      <td>0.89</td>\n",
       "      <td>0.99</td>\n",
       "    </tr>\n",
       "    <tr>\n",
       "      <th>24</th>\n",
       "      <td>1.00</td>\n",
       "      <td>0.60</td>\n",
       "      <td>0.60</td>\n",
       "      <td>1.7</td>\n",
       "      <td>0.96</td>\n",
       "      <td>0.99</td>\n",
       "    </tr>\n",
       "    <tr>\n",
       "      <th>25</th>\n",
       "      <td>1.00</td>\n",
       "      <td>0.69</td>\n",
       "      <td>0.69</td>\n",
       "      <td>0.9</td>\n",
       "      <td>0.40</td>\n",
       "      <td>0.99</td>\n",
       "    </tr>\n",
       "    <tr>\n",
       "      <th>26</th>\n",
       "      <td>1.00</td>\n",
       "      <td>0.73</td>\n",
       "      <td>0.73</td>\n",
       "      <td>0.7</td>\n",
       "      <td>0.40</td>\n",
       "      <td>0.99</td>\n",
       "    </tr>\n",
       "  </tbody>\n",
       "</table>\n",
       "</div>"
      ],
      "text/plain": [
       "    CELL  SMEAR  INFIL   LI  BLAST  TEMP\n",
       "0   0.80   0.83   0.66  1.9   1.10  1.00\n",
       "1   0.90   0.36   0.32  1.4   0.74  0.99\n",
       "2   0.80   0.88   0.70  0.8   0.18  0.98\n",
       "3   1.00   0.87   0.87  0.7   1.05  0.99\n",
       "4   0.90   0.75   0.68  1.3   0.52  0.98\n",
       "5   1.00   0.65   0.65  0.6   0.52  0.98\n",
       "6   0.95   0.97   0.92  1.0   1.23  0.99\n",
       "7   0.95   0.87   0.83  1.9   1.35  1.02\n",
       "8   1.00   0.45   0.45  0.8   0.32  1.00\n",
       "9   0.95   0.36   0.34  0.5   0.00  1.04\n",
       "10  0.85   0.39   0.33  0.7   0.28  0.99\n",
       "11  0.70   0.76   0.53  1.2   0.15  0.98\n",
       "12  0.80   0.46   0.37  0.4   0.38  1.01\n",
       "13  0.20   0.39   0.08  0.8   0.11  0.99\n",
       "14  1.00   0.90   0.90  1.1   1.04  0.99\n",
       "15  1.00   0.84   0.84  1.9   2.06  1.02\n",
       "16  0.65   0.42   0.27  0.5   0.11  1.01\n",
       "17  1.00   0.75   0.75  1.0   1.32  1.00\n",
       "18  0.50   0.44   0.22  0.6   0.11  0.99\n",
       "19  1.00   0.63   0.63  1.1   1.07  0.99\n",
       "20  1.00   0.33   0.33  0.4   0.18  1.01\n",
       "21  0.90   0.93   0.84  0.6   1.59  1.02\n",
       "22  1.00   0.58   0.58  1.0   0.53  1.00\n",
       "23  0.95   0.32   0.30  1.6   0.89  0.99\n",
       "24  1.00   0.60   0.60  1.7   0.96  0.99\n",
       "25  1.00   0.69   0.69  0.9   0.40  0.99\n",
       "26  1.00   0.73   0.73  0.7   0.40  0.99"
      ]
     },
     "execution_count": 8,
     "metadata": {},
     "output_type": "execute_result"
    }
   ],
   "source": [
    "X"
   ]
  },
  {
   "cell_type": "code",
   "execution_count": 9,
   "metadata": {},
   "outputs": [
    {
     "data": {
      "text/plain": [
       "0     1\n",
       "1     1\n",
       "2     0\n",
       "3     0\n",
       "4     1\n",
       "5     0\n",
       "6     1\n",
       "7     0\n",
       "8     0\n",
       "9     0\n",
       "10    0\n",
       "11    0\n",
       "12    0\n",
       "13    0\n",
       "14    0\n",
       "15    1\n",
       "16    0\n",
       "17    0\n",
       "18    0\n",
       "19    1\n",
       "20    0\n",
       "21    0\n",
       "22    1\n",
       "23    0\n",
       "24    1\n",
       "25    1\n",
       "26    0\n",
       "Name: REMISS, dtype: int64"
      ]
     },
     "execution_count": 9,
     "metadata": {},
     "output_type": "execute_result"
    }
   ],
   "source": [
    "y"
   ]
  },
  {
   "cell_type": "markdown",
   "metadata": {},
   "source": [
    "**3. Split the data into training set and testing set.  Perform 10-fold cross validation.**"
   ]
  },
  {
   "cell_type": "code",
   "execution_count": 10,
   "metadata": {},
   "outputs": [
    {
     "name": "stdout",
     "output_type": "stream",
     "text": [
      "TRAIN: [ 3  4  5  6  7  8  9 10 11 12 13 14 15 16 17 18 19 20 21 22 23 24 25 26] TEST: [0 1 2]\n",
      "TRAIN: [ 0  1  2  6  7  8  9 10 11 12 13 14 15 16 17 18 19 20 21 22 23 24 25 26] TEST: [3 4 5]\n",
      "TRAIN: [ 0  1  2  3  4  5  9 10 11 12 13 14 15 16 17 18 19 20 21 22 23 24 25 26] TEST: [6 7 8]\n",
      "TRAIN: [ 0  1  2  3  4  5  6  7  8 12 13 14 15 16 17 18 19 20 21 22 23 24 25 26] TEST: [ 9 10 11]\n",
      "TRAIN: [ 0  1  2  3  4  5  6  7  8  9 10 11 15 16 17 18 19 20 21 22 23 24 25 26] TEST: [12 13 14]\n",
      "TRAIN: [ 0  1  2  3  4  5  6  7  8  9 10 11 12 13 14 18 19 20 21 22 23 24 25 26] TEST: [15 16 17]\n",
      "TRAIN: [ 0  1  2  3  4  5  6  7  8  9 10 11 12 13 14 15 16 17 21 22 23 24 25 26] TEST: [18 19 20]\n",
      "TRAIN: [ 0  1  2  3  4  5  6  7  8  9 10 11 12 13 14 15 16 17 18 19 20 23 24 25\n",
      " 26] TEST: [21 22]\n",
      "TRAIN: [ 0  1  2  3  4  5  6  7  8  9 10 11 12 13 14 15 16 17 18 19 20 21 22 25\n",
      " 26] TEST: [23 24]\n",
      "TRAIN: [ 0  1  2  3  4  5  6  7  8  9 10 11 12 13 14 15 16 17 18 19 20 21 22 23\n",
      " 24] TEST: [25 26]\n"
     ]
    }
   ],
   "source": [
    "#let's view the trained and test data\n",
    "kf = KFold(n_splits=10, random_state=None, shuffle=False)\n",
    "for train_index, test_index in kf.split(X, y=df[\"REMISS\"]):\n",
    "    print(\"TRAIN:\", train_index, \"TEST:\", test_index)\n",
    "    X_train, X_test = X.values[train_index], X.values[test_index]\n",
    "    y_train, y_test = y.values[train_index], y.values[test_index]"
   ]
  },
  {
   "cell_type": "markdown",
   "metadata": {},
   "source": [
    "**4. Train a Logistic regression model for the dataset**"
   ]
  },
  {
   "cell_type": "code",
   "execution_count": 11,
   "metadata": {},
   "outputs": [
    {
     "data": {
      "text/plain": [
       "LogisticRegression(C=1.0, class_weight=None, dual=False, fit_intercept=True,\n",
       "                   intercept_scaling=1, l1_ratio=None, max_iter=100,\n",
       "                   multi_class='auto', n_jobs=None, penalty='l2',\n",
       "                   random_state=None, solver='lbfgs', tol=0.0001, verbose=0,\n",
       "                   warm_start=False)"
      ]
     },
     "execution_count": 11,
     "metadata": {},
     "output_type": "execute_result"
    }
   ],
   "source": [
    "from sklearn.linear_model import LogisticRegression\n",
    "logreg = LogisticRegression()\n",
    "logreg.fit(X_train, y_train)"
   ]
  },
  {
   "cell_type": "markdown",
   "metadata": {},
   "source": [
    "**5. Display the coefficients and form the logistic regression equation**"
   ]
  },
  {
   "cell_type": "code",
   "execution_count": 12,
   "metadata": {},
   "outputs": [
    {
     "name": "stdout",
     "output_type": "stream",
     "text": [
      "Optimization terminated successfully.\n",
      "         Current function value: 0.415273\n",
      "         Iterations 10\n",
      "                           Logit Regression Results                           \n",
      "==============================================================================\n",
      "Dep. Variable:                 REMISS   No. Observations:                   27\n",
      "Model:                          Logit   Df Residuals:                       21\n",
      "Method:                           MLE   Df Model:                            5\n",
      "Date:                Sat, 06 Mar 2021   Pseudo R-squ.:                  0.3476\n",
      "Time:                        22:14:57   Log-Likelihood:                -11.212\n",
      "converged:                       True   LL-Null:                       -17.186\n",
      "Covariance Type:            nonrobust   LLR p-value:                   0.03552\n",
      "==============================================================================\n",
      "                 coef    std err          z      P>|z|      [0.025      0.975]\n",
      "------------------------------------------------------------------------------\n",
      "CELL          48.0130     48.792      0.984      0.325     -47.618     143.644\n",
      "SMEAR         47.5187     56.721      0.838      0.402     -63.653     158.691\n",
      "INFIL        -48.9065     60.084     -0.814      0.416    -166.670      68.857\n",
      "LI             3.9236      2.312      1.697      0.090      -0.609       8.456\n",
      "BLAST         -0.3710      2.160     -0.172      0.864      -4.605       3.863\n",
      "TEMP         -51.2451     48.271     -1.062      0.288    -145.855      43.364\n",
      "==============================================================================\n",
      "\n",
      "Possibly complete quasi-separation: A fraction 0.11 of observations can be\n",
      "perfectly predicted. This might indicate that there is complete\n",
      "quasi-separation. In this case some parameters will not be identified.\n"
     ]
    }
   ],
   "source": [
    "#Displaying the coefficients \n",
    "import statsmodels.api as sm\n",
    "logit_model=sm.Logit(y,X)\n",
    "result=logit_model.fit()\n",
    "print(result.summary())"
   ]
  },
  {
   "cell_type": "code",
   "execution_count": 13,
   "metadata": {},
   "outputs": [
    {
     "name": "stdout",
     "output_type": "stream",
     "text": [
      "Size of X (27, 7)\n",
      "Size of Y  (27, 1)\n"
     ]
    }
   ],
   "source": [
    "#Display the the logistic regression equation\n",
    "from sklearn import preprocessing\n",
    "\n",
    "# scale the data \n",
    "# Min max scaler transforms features by scaling each feature to a given range, default is (0,1).\n",
    "# The transformation is given by:\n",
    "# X_std = (X - X.min(axis=0)) / (X.max(axis=0) - X.min(axis=0))\n",
    "# X_scaled = X_std * (max - min) + min\n",
    "\n",
    "# theta0 + theta1 * x\n",
    "min_max_scaler = preprocessing.MinMaxScaler()\n",
    "X = min_max_scaler.fit_transform(X)\n",
    "\n",
    "# add bias = 1 at column 0\n",
    "X = np.c_[np.ones((X.shape[0], 1)), X]\n",
    "print('Size of X' , X.shape)\n",
    "\n",
    "# make y also a numpy array\n",
    "Y = y[:, np.newaxis]\n",
    "print('Size of Y ' , Y.shape)"
   ]
  },
  {
   "cell_type": "code",
   "execution_count": 14,
   "metadata": {},
   "outputs": [],
   "source": [
    "def sigmoid(a):\n",
    "    return 1.0 / (1 + np.exp(-a))\n",
    "\n",
    "def cost(x, y, theta):\n",
    "    m = x.shape[0]\n",
    "    h = sigmoid(np.matmul(x, theta))\n",
    "    cost = (np.matmul(-y.T, np.log(h)) - np.matmul((1 -y.T), np.log(1 - h)))/m\n",
    "    return cost\n",
    "\n",
    "def gradient_Descent(theta, alpha, x , y):\n",
    "    m = x.shape[0]\n",
    "    h = sigmoid(np.matmul(x, theta))\n",
    "    grad = np.matmul(x.T, (h - y)) / m;\n",
    "    J = cost(x, y, theta)\n",
    "    theta = theta - alpha * grad * J\n",
    "    return theta"
   ]
  },
  {
   "cell_type": "code",
   "execution_count": 15,
   "metadata": {},
   "outputs": [
    {
     "name": "stdout",
     "output_type": "stream",
     "text": [
      "Size of Theta  (7, 1)\n",
      "[[0.]\n",
      " [0.]\n",
      " [0.]\n",
      " [0.]\n",
      " [0.]\n",
      " [0.]\n",
      " [0.]]\n"
     ]
    }
   ],
   "source": [
    "# create and initialize theta parameters. # X 100 x 3\n",
    "Theta = np.zeros((X.shape[1], 1))\n",
    "print('Size of Theta ' , Theta.shape)\n",
    "print(Theta)"
   ]
  },
  {
   "cell_type": "code",
   "execution_count": 16,
   "metadata": {},
   "outputs": [
    {
     "name": "stdout",
     "output_type": "stream",
     "text": [
      "epoch = 0, cost = [[0.69137662]]\n",
      "epoch = 10000, cost = [[0.43526099]]\n",
      "epoch = 20000, cost = [[0.42223201]]\n",
      "epoch = 30000, cost = [[0.41680514]]\n",
      "epoch = 40000, cost = [[0.41373124]]\n",
      "epoch = 50000, cost = [[0.41169967]]\n",
      "epoch = 60000, cost = [[0.41023416]]\n",
      "epoch = 70000, cost = [[0.40912052]]\n",
      "epoch = 80000, cost = [[0.40824648]]\n",
      "epoch = 90000, cost = [[0.40754587]]\n",
      "epoch = 100000, cost = [[0.40697601]]\n",
      "\n",
      "\n",
      "Training completed\n"
     ]
    }
   ],
   "source": [
    "n_iterations = 100000 \n",
    "learning_rate = 0.05 # hyperparameter - fixed by trail and error methods\n",
    "\n",
    "# to store the cost values\n",
    "cost_history = []\n",
    "\n",
    "for i in range( n_iterations+1 ):\n",
    "    Theta = gradient_Descent(Theta, learning_rate, X, Y)\n",
    "    J_new = cost(X, Y, Theta)\n",
    "    cost_history.append(J_new.flatten())\n",
    "    if i % 10000 == 0:\n",
    "        print('epoch = {}, cost = {}' .format(i, J_new))\n",
    "        \n",
    "print(\"\\n\")\n",
    "print('Training completed')\n",
    "\n",
    "# while( new_cost - old_cost < epsilon)\n",
    "# change the values theta"
   ]
  },
  {
   "cell_type": "code",
   "execution_count": 17,
   "metadata": {},
   "outputs": [
    {
     "name": "stdout",
     "output_type": "stream",
     "text": [
      "[-6.82573643  4.17539994 -1.53585922  2.57142878  5.24845446  0.65099048\n",
      " -5.00606404]\n",
      "\n",
      "\n",
      "The logistic regression equation is  [-6.82573643] x1 + [4.17539994] x2 [-1.53585922] x3 + [2.57142878] x4 + [5.24845446] x5 + [0.65099048] x6 [-5.00606404] x7\n"
     ]
    }
   ],
   "source": [
    "print(Theta.flatten()) # theta0, theta1 theta2\n",
    "print(\"\\n\")\n",
    "print(\"The logistic regression equation is \", Theta[0],\"x1\" ,\"+\", Theta[1],\"x2\", Theta[2],\"x3\", \"+\", Theta[3],\"x4\", \"+\", Theta[4],\"x5\", \"+\", Theta[5],\"x6\", Theta[6],\"x7\")"
   ]
  },
  {
   "cell_type": "code",
   "execution_count": 18,
   "metadata": {},
   "outputs": [
    {
     "data": {
      "image/png": "[encoded data removed]",
      "text/plain": [
       "<Figure size 432x288 with 1 Axes>"
      ]
     },
     "metadata": {
      "needs_background": "light"
     },
     "output_type": "display_data"
    }
   ],
   "source": [
    "# plot the cost function\n",
    "plt.plot(cost_history)\n",
    "plt.title('Cost Function using Gradient Descent')\n",
    "plt.xlabel(\"Number of iterations\") \n",
    "plt.ylabel(\"Cost\") \n",
    "plt.show()"
   ]
  },
  {
   "cell_type": "markdown",
   "metadata": {},
   "source": [
    "**6. Compute the accuracy and confusion matrix**"
   ]
  },
  {
   "cell_type": "code",
   "execution_count": 19,
   "metadata": {},
   "outputs": [
    {
     "name": "stdout",
     "output_type": "stream",
     "text": [
      "Training set accuracy score: 76.000\n",
      "Test set accuracy score: 50.000\n"
     ]
    }
   ],
   "source": [
    "#Let's view the accuracy score \n",
    "train_acc = logreg.score(X_train,y_train) * 100\n",
    "test_acc = logreg.score(X_test,y_test) * 100\n",
    "print(\"Training set accuracy score: {:.3f}\".format(train_acc))\n",
    "print(\"Test set accuracy score: {:.3f}\".format(test_acc))"
   ]
  },
  {
   "cell_type": "code",
   "execution_count": 20,
   "metadata": {},
   "outputs": [
    {
     "data": {
      "text/plain": [
       "<matplotlib.axes._subplots.AxesSubplot at 0x28110343e88>"
      ]
     },
     "execution_count": 20,
     "metadata": {},
     "output_type": "execute_result"
    },
    {
     "data": {
      "image/png": "[encoded data removed]",
      "text/plain": [
       "<Figure size 432x288 with 2 Axes>"
      ]
     },
     "metadata": {
      "needs_background": "light"
     },
     "output_type": "display_data"
    }
   ],
   "source": [
    "#Let's plot the confusion matrix\n",
    "from sklearn.metrics import confusion_matrix\n",
    "y_pred = logreg.predict(X_test)\n",
    "conf_matrix = confusion_matrix(y_test, y_pred)\n",
    "sns.heatmap(conf_matrix,annot=True,cmap=\"YlGnBu\")"
   ]
  },
  {
   "cell_type": "markdown",
   "metadata": {},
   "source": [
    "**7. Plot the decision boundary**"
   ]
  },
  {
   "cell_type": "code",
   "execution_count": 21,
   "metadata": {
    "scrolled": true
   },
   "outputs": [
    {
     "data": {
      "image/png": "[encoded data removed]",
      "text/plain": [
       "<Figure size 576x432 with 1 Axes>"
      ]
     },
     "metadata": {},
     "output_type": "display_data"
    }
   ],
   "source": [
    "# Plot the decision boundary.\n",
    "# point in the mesh [x_min, x_max]x[y_min, y_max].\n",
    "logreg1 = LogisticRegression()\n",
    "reduced_data = X[:, :2]\n",
    "logreg1.fit(reduced_data, y)\n",
    "x_min, x_max = reduced_data[:, 0].min() - .5, reduced_data[:, 0].max() + .5\n",
    "y_min, y_max = reduced_data[:, 1].min() - .5, reduced_data[:, 1].max() + .5\n",
    "h = 0.02 # step size in the mesh\n",
    "xx, yy = np.meshgrid(np.arange(x_min, x_max, h), np.arange(y_min, y_max, h))\n",
    "grid = np.c_[xx.ravel(), yy.ravel()]\n",
    "Z = logreg1.predict(grid)\n",
    "Z = Z.reshape(xx.shape)\n",
    "plt.figure(1, figsize=(8,6))\n",
    "plt.pcolormesh(xx, yy, Z, cmap=plt.cm.coolwarm)\n",
    "# Plot also the training points\n",
    "plt.scatter(X[:, 0], X[:, 1], c=y, edgecolors='k', cmap=plt.cm.viridis)\n",
    "\n",
    "plt.title(\"Decision Plot for the dataset\")\n",
    "plt.xlabel('X')\n",
    "plt.ylabel('y')\n",
    "\n",
    "plt.xlim(xx.min(), xx.max())\n",
    "plt.ylim(yy.min(), yy.max())\n",
    "plt.xticks(())\n",
    "plt.yticks(())\n",
    "\n",
    "plt.show()"
   ]
  },
  {
   "cell_type": "markdown",
   "metadata": {},
   "source": [
    "**8. Display the correlation between all the attributes**"
   ]
  },
  {
   "cell_type": "code",
   "execution_count": 22,
   "metadata": {},
   "outputs": [
    {
     "data": {
      "text/html": [
       "<div>\n",
       "<style scoped>\n",
       "    .dataframe tbody tr th:only-of-type {\n",
       "        vertical-align: middle;\n",
       "    }\n",
       "\n",
       "    .dataframe tbody tr th {\n",
       "        vertical-align: top;\n",
       "    }\n",
       "\n",
       "    .dataframe thead th {\n",
       "        text-align: right;\n",
       "    }\n",
       "</style>\n",
       "<table border=\"1\" class=\"dataframe\">\n",
       "  <thead>\n",
       "    <tr style=\"text-align: right;\">\n",
       "      <th></th>\n",
       "      <th>REMISS</th>\n",
       "      <th>CELL</th>\n",
       "      <th>SMEAR</th>\n",
       "      <th>INFIL</th>\n",
       "      <th>LI</th>\n",
       "      <th>BLAST</th>\n",
       "      <th>TEMP</th>\n",
       "    </tr>\n",
       "  </thead>\n",
       "  <tbody>\n",
       "    <tr>\n",
       "      <th>REMISS</th>\n",
       "      <td>1.000000</td>\n",
       "      <td>0.264529</td>\n",
       "      <td>0.199488</td>\n",
       "      <td>0.263997</td>\n",
       "      <td>0.541982</td>\n",
       "      <td>0.361188</td>\n",
       "      <td>-0.143963</td>\n",
       "    </tr>\n",
       "    <tr>\n",
       "      <th>CELL</th>\n",
       "      <td>0.264529</td>\n",
       "      <td>1.000000</td>\n",
       "      <td>0.291788</td>\n",
       "      <td>0.607077</td>\n",
       "      <td>0.190235</td>\n",
       "      <td>0.440772</td>\n",
       "      <td>0.134832</td>\n",
       "    </tr>\n",
       "    <tr>\n",
       "      <th>SMEAR</th>\n",
       "      <td>0.199488</td>\n",
       "      <td>0.291788</td>\n",
       "      <td>1.000000</td>\n",
       "      <td>0.929701</td>\n",
       "      <td>0.317457</td>\n",
       "      <td>0.612348</td>\n",
       "      <td>-0.120395</td>\n",
       "    </tr>\n",
       "    <tr>\n",
       "      <th>INFIL</th>\n",
       "      <td>0.263997</td>\n",
       "      <td>0.607077</td>\n",
       "      <td>0.929701</td>\n",
       "      <td>1.000000</td>\n",
       "      <td>0.321144</td>\n",
       "      <td>0.695768</td>\n",
       "      <td>-0.039825</td>\n",
       "    </tr>\n",
       "    <tr>\n",
       "      <th>LI</th>\n",
       "      <td>0.541982</td>\n",
       "      <td>0.190235</td>\n",
       "      <td>0.317457</td>\n",
       "      <td>0.321144</td>\n",
       "      <td>1.000000</td>\n",
       "      <td>0.603877</td>\n",
       "      <td>-0.054002</td>\n",
       "    </tr>\n",
       "    <tr>\n",
       "      <th>BLAST</th>\n",
       "      <td>0.361188</td>\n",
       "      <td>0.440772</td>\n",
       "      <td>0.612348</td>\n",
       "      <td>0.695768</td>\n",
       "      <td>0.603877</td>\n",
       "      <td>1.000000</td>\n",
       "      <td>0.216681</td>\n",
       "    </tr>\n",
       "    <tr>\n",
       "      <th>TEMP</th>\n",
       "      <td>-0.143963</td>\n",
       "      <td>0.134832</td>\n",
       "      <td>-0.120395</td>\n",
       "      <td>-0.039825</td>\n",
       "      <td>-0.054002</td>\n",
       "      <td>0.216681</td>\n",
       "      <td>1.000000</td>\n",
       "    </tr>\n",
       "  </tbody>\n",
       "</table>\n",
       "</div>"
      ],
      "text/plain": [
       "          REMISS      CELL     SMEAR     INFIL        LI     BLAST      TEMP\n",
       "REMISS  1.000000  0.264529  0.199488  0.263997  0.541982  0.361188 -0.143963\n",
       "CELL    0.264529  1.000000  0.291788  0.607077  0.190235  0.440772  0.134832\n",
       "SMEAR   0.199488  0.291788  1.000000  0.929701  0.317457  0.612348 -0.120395\n",
       "INFIL   0.263997  0.607077  0.929701  1.000000  0.321144  0.695768 -0.039825\n",
       "LI      0.541982  0.190235  0.317457  0.321144  1.000000  0.603877 -0.054002\n",
       "BLAST   0.361188  0.440772  0.612348  0.695768  0.603877  1.000000  0.216681\n",
       "TEMP   -0.143963  0.134832 -0.120395 -0.039825 -0.054002  0.216681  1.000000"
      ]
     },
     "execution_count": 22,
     "metadata": {},
     "output_type": "execute_result"
    }
   ],
   "source": [
    "#Performing correlations between the variables\n",
    "df.corr()"
   ]
  },
  {
   "cell_type": "code",
   "execution_count": 23,
   "metadata": {},
   "outputs": [
    {
     "data": {
      "text/plain": [
       "<matplotlib.axes._subplots.AxesSubplot at 0x281103e3348>"
      ]
     },
     "execution_count": 23,
     "metadata": {},
     "output_type": "execute_result"
    },
    {
     "data": {
      "image/png": "[encoded data removed]",
      "text/plain": [
       "<Figure size 864x432 with 2 Axes>"
      ]
     },
     "metadata": {
      "needs_background": "light"
     },
     "output_type": "display_data"
    }
   ],
   "source": [
    "#Visualzing the heatmap for the correlated data\n",
    "plt.figure(figsize=(12,6))\n",
    "sns.heatmap(df.corr(),annot=True,cmap=\"YlGnBu\")"
   ]
  },
  {
   "cell_type": "code",
   "execution_count": 24,
   "metadata": {},
   "outputs": [],
   "source": [
    "#exporting the output dataset\n",
    "df.to_csv(r\"F:\\M.tech\\Study Materials\\2nd Sem Materials\\Machine Learning\\Slides\\Assignment - 1\\Set 3\\Q1\\output_Q1.csv\")"
   ]
  }
 ],
 "metadata": {
  "kernelspec": {
   "display_name": "Python 3",
   "language": "python",
   "name": "python3"
  },
  "language_info": {
   "codemirror_mode": {
    "name": "ipython",
    "version": 3
   },
   "file_extension": ".py",
   "mimetype": "text/x-python",
   "name": "python",
   "nbconvert_exporter": "python",
   "pygments_lexer": "ipython3",
   "version": "3.7.6"
  }
 },
 "nbformat": 4,
 "nbformat_minor": 4
}
